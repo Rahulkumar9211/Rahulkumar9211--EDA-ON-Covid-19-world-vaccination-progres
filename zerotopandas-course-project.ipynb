{
 "cells": [
  {
   "cell_type": "markdown",
   "metadata": {},
   "source": [
    "## COVID-19 World Vaccination Progress\n",
    "\n",
    "\n",
    "The Covid-19 pandemic is the most crucial health disaster that has surrounded the world for the past year. Predicting the COVID-19 vaccination trend has become a challenging issue. Many health professionals, statisticians, researchers, and programmers have been tracking the spread of the virus in different regions of the world using various approaches. The rise in various vaccines developed by talented scientists spurred curiosity about learning more about ongoing vaccine programs and a keen interest in finding meaningful insights from data drove me to work on this particular endeavor."
   ]
  },
  {
   "cell_type": "markdown",
   "metadata": {},
   "source": [
    "## Downloading the Dataset\n",
    "\n",
    "download dataset Kaggle"
   ]
  },
  {
   "cell_type": "markdown",
   "metadata": {},
   "source": [
    "\n",
    ">\n",
    "> - Find an interesting dataset on this page: https://www.kaggle.com/datasets?fileType=csv\n",
    "> - The data should be in CSV format, and should contain at least 3 columns and 150 rows\n",
    "> - Download the dataset using the [`opendatasets` Python library](https://github.com/JovianML/opendatasets#opendatasets)"
   ]
  },
  {
   "cell_type": "code",
   "execution_count": 1,
   "metadata": {},
   "outputs": [],
   "source": [
    "!pip install jovian opendatasets --upgrade --quiet"
   ]
  },
  {
   "cell_type": "markdown",
   "metadata": {},
   "source": [
    "Let's begin by downloading the data, and listing the files within the dataset."
   ]
  },
  {
   "cell_type": "code",
   "execution_count": 2,
   "metadata": {},
   "outputs": [],
   "source": [
    "# Change this\n",
    "dataset_url = 'https://www.kaggle.com/gpreda/covid-world-vaccination-progress'  "
   ]
  },
  {
   "cell_type": "code",
   "execution_count": 4,
   "metadata": {
    "scrolled": true
   },
   "outputs": [
    {
     "name": "stdout",
     "output_type": "stream",
     "text": [
      "Skipping, found downloaded files in \"./covid-world-vaccination-progress\" (use force=True to force download)\n"
     ]
    }
   ],
   "source": [
    "import opendatasets as od\n",
    "od.download(dataset_url)"
   ]
  },
  {
   "cell_type": "markdown",
   "metadata": {},
   "source": [
    "The dataset has been downloaded and extracted."
   ]
  },
  {
   "cell_type": "code",
   "execution_count": 5,
   "metadata": {},
   "outputs": [],
   "source": [
    "\n",
    "data_dir = './covid-world-vaccination-progress'  "
   ]
  },
  {
   "cell_type": "code",
   "execution_count": 6,
   "metadata": {},
   "outputs": [
    {
     "data": {
      "text/plain": [
       "['country_vaccinations.csv', 'country_vaccinations_by_manufacturer.csv']"
      ]
     },
     "execution_count": 6,
     "metadata": {},
     "output_type": "execute_result"
    }
   ],
   "source": [
    "import os\n",
    "os.listdir(data_dir)"
   ]
  },
  {
   "cell_type": "markdown",
   "metadata": {},
   "source": [
    "Let us save and upload our work to Jovian before continuing."
   ]
  },
  {
   "cell_type": "code",
   "execution_count": 7,
   "metadata": {},
   "outputs": [],
   "source": [
    "project_name = \"COVID-19 World Vaccination Progress\" # change this (use lowercase letters and hyphens only)\n"
   ]
  },
  {
   "cell_type": "code",
   "execution_count": 8,
   "metadata": {},
   "outputs": [],
   "source": [
    "!pip install jovian --upgrade -q"
   ]
  },
  {
   "cell_type": "code",
   "execution_count": 9,
   "metadata": {},
   "outputs": [],
   "source": [
    "import jovian"
   ]
  },
  {
   "cell_type": "code",
   "execution_count": 10,
   "metadata": {},
   "outputs": [
    {
     "data": {
      "application/javascript": [
       "window.require && require([\"base/js/namespace\"],function(Jupyter){Jupyter.notebook.save_checkpoint()})"
      ],
      "text/plain": [
       "<IPython.core.display.Javascript object>"
      ]
     },
     "metadata": {},
     "output_type": "display_data"
    },
    {
     "name": "stdout",
     "output_type": "stream",
     "text": [
      "[jovian] Updating notebook \"rrj9211/covid-19-world-vaccination-progress\" on https://jovian.ai\u001b[0m\n",
      "[jovian] Committed successfully! https://jovian.ai/rrj9211/covid-19-world-vaccination-progress\u001b[0m\n"
     ]
    },
    {
     "data": {
      "text/plain": [
       "'https://jovian.ai/rrj9211/covid-19-world-vaccination-progress'"
      ]
     },
     "execution_count": 10,
     "metadata": {},
     "output_type": "execute_result"
    }
   ],
   "source": [
    "jovian.commit(project=project_name)"
   ]
  },
  {
   "cell_type": "markdown",
   "metadata": {},
   "source": [
    "## Data Preparation and Cleaning \n",
    "\n"
   ]
  },
  {
   "cell_type": "markdown",
   "metadata": {},
   "source": [
    "\n",
    ">\n",
    "> - Load the dataset into a data frame using Pandas\n",
    "> - Explore the number of rows & columns, ranges of values etc.\n",
    "> - Handle missing, incorrect and invalid data\n",
    "> - Perform any additional steps (parsing dates, creating additional columns, merging multiple dataset etc.)"
   ]
  },
  {
   "cell_type": "code",
   "execution_count": 11,
   "metadata": {},
   "outputs": [],
   "source": [
    "import pandas as pd"
   ]
  },
  {
   "cell_type": "code",
   "execution_count": 12,
   "metadata": {},
   "outputs": [],
   "source": [
    "covid_vaccin_df = pd.read_csv('./covid-world-vaccination-progress/country_vaccinations.csv')\n"
   ]
  },
  {
   "cell_type": "code",
   "execution_count": 13,
   "metadata": {},
   "outputs": [
    {
     "data": {
      "text/html": [
       "<div>\n",
       "<style scoped>\n",
       "    .dataframe tbody tr th:only-of-type {\n",
       "        vertical-align: middle;\n",
       "    }\n",
       "\n",
       "    .dataframe tbody tr th {\n",
       "        vertical-align: top;\n",
       "    }\n",
       "\n",
       "    .dataframe thead th {\n",
       "        text-align: right;\n",
       "    }\n",
       "</style>\n",
       "<table border=\"1\" class=\"dataframe\">\n",
       "  <thead>\n",
       "    <tr style=\"text-align: right;\">\n",
       "      <th></th>\n",
       "      <th>country</th>\n",
       "      <th>iso_code</th>\n",
       "      <th>date</th>\n",
       "      <th>total_vaccinations</th>\n",
       "      <th>people_vaccinated</th>\n",
       "      <th>people_fully_vaccinated</th>\n",
       "      <th>daily_vaccinations_raw</th>\n",
       "      <th>daily_vaccinations</th>\n",
       "      <th>total_vaccinations_per_hundred</th>\n",
       "      <th>people_vaccinated_per_hundred</th>\n",
       "      <th>people_fully_vaccinated_per_hundred</th>\n",
       "      <th>daily_vaccinations_per_million</th>\n",
       "      <th>vaccines</th>\n",
       "      <th>source_name</th>\n",
       "      <th>source_website</th>\n",
       "    </tr>\n",
       "  </thead>\n",
       "  <tbody>\n",
       "    <tr>\n",
       "      <th>0</th>\n",
       "      <td>Afghanistan</td>\n",
       "      <td>AFG</td>\n",
       "      <td>2021-02-22</td>\n",
       "      <td>0.0</td>\n",
       "      <td>0.0</td>\n",
       "      <td>NaN</td>\n",
       "      <td>NaN</td>\n",
       "      <td>NaN</td>\n",
       "      <td>0.00</td>\n",
       "      <td>0.00</td>\n",
       "      <td>NaN</td>\n",
       "      <td>NaN</td>\n",
       "      <td>Johnson&amp;Johnson, Oxford/AstraZeneca, Pfizer/Bi...</td>\n",
       "      <td>World Health Organization</td>\n",
       "      <td>https://covid19.who.int/</td>\n",
       "    </tr>\n",
       "    <tr>\n",
       "      <th>1</th>\n",
       "      <td>Afghanistan</td>\n",
       "      <td>AFG</td>\n",
       "      <td>2021-02-23</td>\n",
       "      <td>NaN</td>\n",
       "      <td>NaN</td>\n",
       "      <td>NaN</td>\n",
       "      <td>NaN</td>\n",
       "      <td>1367.0</td>\n",
       "      <td>NaN</td>\n",
       "      <td>NaN</td>\n",
       "      <td>NaN</td>\n",
       "      <td>34.0</td>\n",
       "      <td>Johnson&amp;Johnson, Oxford/AstraZeneca, Pfizer/Bi...</td>\n",
       "      <td>World Health Organization</td>\n",
       "      <td>https://covid19.who.int/</td>\n",
       "    </tr>\n",
       "    <tr>\n",
       "      <th>2</th>\n",
       "      <td>Afghanistan</td>\n",
       "      <td>AFG</td>\n",
       "      <td>2021-02-24</td>\n",
       "      <td>NaN</td>\n",
       "      <td>NaN</td>\n",
       "      <td>NaN</td>\n",
       "      <td>NaN</td>\n",
       "      <td>1367.0</td>\n",
       "      <td>NaN</td>\n",
       "      <td>NaN</td>\n",
       "      <td>NaN</td>\n",
       "      <td>34.0</td>\n",
       "      <td>Johnson&amp;Johnson, Oxford/AstraZeneca, Pfizer/Bi...</td>\n",
       "      <td>World Health Organization</td>\n",
       "      <td>https://covid19.who.int/</td>\n",
       "    </tr>\n",
       "    <tr>\n",
       "      <th>3</th>\n",
       "      <td>Afghanistan</td>\n",
       "      <td>AFG</td>\n",
       "      <td>2021-02-25</td>\n",
       "      <td>NaN</td>\n",
       "      <td>NaN</td>\n",
       "      <td>NaN</td>\n",
       "      <td>NaN</td>\n",
       "      <td>1367.0</td>\n",
       "      <td>NaN</td>\n",
       "      <td>NaN</td>\n",
       "      <td>NaN</td>\n",
       "      <td>34.0</td>\n",
       "      <td>Johnson&amp;Johnson, Oxford/AstraZeneca, Pfizer/Bi...</td>\n",
       "      <td>World Health Organization</td>\n",
       "      <td>https://covid19.who.int/</td>\n",
       "    </tr>\n",
       "    <tr>\n",
       "      <th>4</th>\n",
       "      <td>Afghanistan</td>\n",
       "      <td>AFG</td>\n",
       "      <td>2021-02-26</td>\n",
       "      <td>NaN</td>\n",
       "      <td>NaN</td>\n",
       "      <td>NaN</td>\n",
       "      <td>NaN</td>\n",
       "      <td>1367.0</td>\n",
       "      <td>NaN</td>\n",
       "      <td>NaN</td>\n",
       "      <td>NaN</td>\n",
       "      <td>34.0</td>\n",
       "      <td>Johnson&amp;Johnson, Oxford/AstraZeneca, Pfizer/Bi...</td>\n",
       "      <td>World Health Organization</td>\n",
       "      <td>https://covid19.who.int/</td>\n",
       "    </tr>\n",
       "    <tr>\n",
       "      <th>...</th>\n",
       "      <td>...</td>\n",
       "      <td>...</td>\n",
       "      <td>...</td>\n",
       "      <td>...</td>\n",
       "      <td>...</td>\n",
       "      <td>...</td>\n",
       "      <td>...</td>\n",
       "      <td>...</td>\n",
       "      <td>...</td>\n",
       "      <td>...</td>\n",
       "      <td>...</td>\n",
       "      <td>...</td>\n",
       "      <td>...</td>\n",
       "      <td>...</td>\n",
       "      <td>...</td>\n",
       "    </tr>\n",
       "    <tr>\n",
       "      <th>86507</th>\n",
       "      <td>Zimbabwe</td>\n",
       "      <td>ZWE</td>\n",
       "      <td>2022-03-25</td>\n",
       "      <td>8691642.0</td>\n",
       "      <td>4814582.0</td>\n",
       "      <td>3473523.0</td>\n",
       "      <td>139213.0</td>\n",
       "      <td>69579.0</td>\n",
       "      <td>57.59</td>\n",
       "      <td>31.90</td>\n",
       "      <td>23.02</td>\n",
       "      <td>4610.0</td>\n",
       "      <td>Oxford/AstraZeneca, Sinopharm/Beijing, Sinovac...</td>\n",
       "      <td>Ministry of Health</td>\n",
       "      <td>https://www.arcgis.com/home/webmap/viewer.html...</td>\n",
       "    </tr>\n",
       "    <tr>\n",
       "      <th>86508</th>\n",
       "      <td>Zimbabwe</td>\n",
       "      <td>ZWE</td>\n",
       "      <td>2022-03-26</td>\n",
       "      <td>8791728.0</td>\n",
       "      <td>4886242.0</td>\n",
       "      <td>3487962.0</td>\n",
       "      <td>100086.0</td>\n",
       "      <td>83429.0</td>\n",
       "      <td>58.25</td>\n",
       "      <td>32.38</td>\n",
       "      <td>23.11</td>\n",
       "      <td>5528.0</td>\n",
       "      <td>Oxford/AstraZeneca, Sinopharm/Beijing, Sinovac...</td>\n",
       "      <td>Ministry of Health</td>\n",
       "      <td>https://www.arcgis.com/home/webmap/viewer.html...</td>\n",
       "    </tr>\n",
       "    <tr>\n",
       "      <th>86509</th>\n",
       "      <td>Zimbabwe</td>\n",
       "      <td>ZWE</td>\n",
       "      <td>2022-03-27</td>\n",
       "      <td>8845039.0</td>\n",
       "      <td>4918147.0</td>\n",
       "      <td>3493763.0</td>\n",
       "      <td>53311.0</td>\n",
       "      <td>90629.0</td>\n",
       "      <td>58.61</td>\n",
       "      <td>32.59</td>\n",
       "      <td>23.15</td>\n",
       "      <td>6005.0</td>\n",
       "      <td>Oxford/AstraZeneca, Sinopharm/Beijing, Sinovac...</td>\n",
       "      <td>Ministry of Health</td>\n",
       "      <td>https://www.arcgis.com/home/webmap/viewer.html...</td>\n",
       "    </tr>\n",
       "    <tr>\n",
       "      <th>86510</th>\n",
       "      <td>Zimbabwe</td>\n",
       "      <td>ZWE</td>\n",
       "      <td>2022-03-28</td>\n",
       "      <td>8934360.0</td>\n",
       "      <td>4975433.0</td>\n",
       "      <td>3501493.0</td>\n",
       "      <td>89321.0</td>\n",
       "      <td>100614.0</td>\n",
       "      <td>59.20</td>\n",
       "      <td>32.97</td>\n",
       "      <td>23.20</td>\n",
       "      <td>6667.0</td>\n",
       "      <td>Oxford/AstraZeneca, Sinopharm/Beijing, Sinovac...</td>\n",
       "      <td>Ministry of Health</td>\n",
       "      <td>https://www.arcgis.com/home/webmap/viewer.html...</td>\n",
       "    </tr>\n",
       "    <tr>\n",
       "      <th>86511</th>\n",
       "      <td>Zimbabwe</td>\n",
       "      <td>ZWE</td>\n",
       "      <td>2022-03-29</td>\n",
       "      <td>9039729.0</td>\n",
       "      <td>5053114.0</td>\n",
       "      <td>3510256.0</td>\n",
       "      <td>105369.0</td>\n",
       "      <td>103751.0</td>\n",
       "      <td>59.90</td>\n",
       "      <td>33.48</td>\n",
       "      <td>23.26</td>\n",
       "      <td>6874.0</td>\n",
       "      <td>Oxford/AstraZeneca, Sinopharm/Beijing, Sinovac...</td>\n",
       "      <td>Ministry of Health</td>\n",
       "      <td>https://www.arcgis.com/home/webmap/viewer.html...</td>\n",
       "    </tr>\n",
       "  </tbody>\n",
       "</table>\n",
       "<p>86512 rows × 15 columns</p>\n",
       "</div>"
      ],
      "text/plain": [
       "           country iso_code        date  total_vaccinations  \\\n",
       "0      Afghanistan      AFG  2021-02-22                 0.0   \n",
       "1      Afghanistan      AFG  2021-02-23                 NaN   \n",
       "2      Afghanistan      AFG  2021-02-24                 NaN   \n",
       "3      Afghanistan      AFG  2021-02-25                 NaN   \n",
       "4      Afghanistan      AFG  2021-02-26                 NaN   \n",
       "...            ...      ...         ...                 ...   \n",
       "86507     Zimbabwe      ZWE  2022-03-25           8691642.0   \n",
       "86508     Zimbabwe      ZWE  2022-03-26           8791728.0   \n",
       "86509     Zimbabwe      ZWE  2022-03-27           8845039.0   \n",
       "86510     Zimbabwe      ZWE  2022-03-28           8934360.0   \n",
       "86511     Zimbabwe      ZWE  2022-03-29           9039729.0   \n",
       "\n",
       "       people_vaccinated  people_fully_vaccinated  daily_vaccinations_raw  \\\n",
       "0                    0.0                      NaN                     NaN   \n",
       "1                    NaN                      NaN                     NaN   \n",
       "2                    NaN                      NaN                     NaN   \n",
       "3                    NaN                      NaN                     NaN   \n",
       "4                    NaN                      NaN                     NaN   \n",
       "...                  ...                      ...                     ...   \n",
       "86507          4814582.0                3473523.0                139213.0   \n",
       "86508          4886242.0                3487962.0                100086.0   \n",
       "86509          4918147.0                3493763.0                 53311.0   \n",
       "86510          4975433.0                3501493.0                 89321.0   \n",
       "86511          5053114.0                3510256.0                105369.0   \n",
       "\n",
       "       daily_vaccinations  total_vaccinations_per_hundred  \\\n",
       "0                     NaN                            0.00   \n",
       "1                  1367.0                             NaN   \n",
       "2                  1367.0                             NaN   \n",
       "3                  1367.0                             NaN   \n",
       "4                  1367.0                             NaN   \n",
       "...                   ...                             ...   \n",
       "86507             69579.0                           57.59   \n",
       "86508             83429.0                           58.25   \n",
       "86509             90629.0                           58.61   \n",
       "86510            100614.0                           59.20   \n",
       "86511            103751.0                           59.90   \n",
       "\n",
       "       people_vaccinated_per_hundred  people_fully_vaccinated_per_hundred  \\\n",
       "0                               0.00                                  NaN   \n",
       "1                                NaN                                  NaN   \n",
       "2                                NaN                                  NaN   \n",
       "3                                NaN                                  NaN   \n",
       "4                                NaN                                  NaN   \n",
       "...                              ...                                  ...   \n",
       "86507                          31.90                                23.02   \n",
       "86508                          32.38                                23.11   \n",
       "86509                          32.59                                23.15   \n",
       "86510                          32.97                                23.20   \n",
       "86511                          33.48                                23.26   \n",
       "\n",
       "       daily_vaccinations_per_million  \\\n",
       "0                                 NaN   \n",
       "1                                34.0   \n",
       "2                                34.0   \n",
       "3                                34.0   \n",
       "4                                34.0   \n",
       "...                               ...   \n",
       "86507                          4610.0   \n",
       "86508                          5528.0   \n",
       "86509                          6005.0   \n",
       "86510                          6667.0   \n",
       "86511                          6874.0   \n",
       "\n",
       "                                                vaccines  \\\n",
       "0      Johnson&Johnson, Oxford/AstraZeneca, Pfizer/Bi...   \n",
       "1      Johnson&Johnson, Oxford/AstraZeneca, Pfizer/Bi...   \n",
       "2      Johnson&Johnson, Oxford/AstraZeneca, Pfizer/Bi...   \n",
       "3      Johnson&Johnson, Oxford/AstraZeneca, Pfizer/Bi...   \n",
       "4      Johnson&Johnson, Oxford/AstraZeneca, Pfizer/Bi...   \n",
       "...                                                  ...   \n",
       "86507  Oxford/AstraZeneca, Sinopharm/Beijing, Sinovac...   \n",
       "86508  Oxford/AstraZeneca, Sinopharm/Beijing, Sinovac...   \n",
       "86509  Oxford/AstraZeneca, Sinopharm/Beijing, Sinovac...   \n",
       "86510  Oxford/AstraZeneca, Sinopharm/Beijing, Sinovac...   \n",
       "86511  Oxford/AstraZeneca, Sinopharm/Beijing, Sinovac...   \n",
       "\n",
       "                     source_name  \\\n",
       "0      World Health Organization   \n",
       "1      World Health Organization   \n",
       "2      World Health Organization   \n",
       "3      World Health Organization   \n",
       "4      World Health Organization   \n",
       "...                          ...   \n",
       "86507         Ministry of Health   \n",
       "86508         Ministry of Health   \n",
       "86509         Ministry of Health   \n",
       "86510         Ministry of Health   \n",
       "86511         Ministry of Health   \n",
       "\n",
       "                                          source_website  \n",
       "0                               https://covid19.who.int/  \n",
       "1                               https://covid19.who.int/  \n",
       "2                               https://covid19.who.int/  \n",
       "3                               https://covid19.who.int/  \n",
       "4                               https://covid19.who.int/  \n",
       "...                                                  ...  \n",
       "86507  https://www.arcgis.com/home/webmap/viewer.html...  \n",
       "86508  https://www.arcgis.com/home/webmap/viewer.html...  \n",
       "86509  https://www.arcgis.com/home/webmap/viewer.html...  \n",
       "86510  https://www.arcgis.com/home/webmap/viewer.html...  \n",
       "86511  https://www.arcgis.com/home/webmap/viewer.html...  \n",
       "\n",
       "[86512 rows x 15 columns]"
      ]
     },
     "execution_count": 13,
     "metadata": {},
     "output_type": "execute_result"
    }
   ],
   "source": [
    "covid_vaccin_df"
   ]
  },
  {
   "cell_type": "code",
   "execution_count": 14,
   "metadata": {},
   "outputs": [],
   "source": [
    "clean_value=covid_vaccin_df.dropna()"
   ]
  },
  {
   "cell_type": "code",
   "execution_count": 15,
   "metadata": {},
   "outputs": [
    {
     "data": {
      "text/html": [
       "<div>\n",
       "<style scoped>\n",
       "    .dataframe tbody tr th:only-of-type {\n",
       "        vertical-align: middle;\n",
       "    }\n",
       "\n",
       "    .dataframe tbody tr th {\n",
       "        vertical-align: top;\n",
       "    }\n",
       "\n",
       "    .dataframe thead th {\n",
       "        text-align: right;\n",
       "    }\n",
       "</style>\n",
       "<table border=\"1\" class=\"dataframe\">\n",
       "  <thead>\n",
       "    <tr style=\"text-align: right;\">\n",
       "      <th></th>\n",
       "      <th>country</th>\n",
       "      <th>iso_code</th>\n",
       "      <th>date</th>\n",
       "      <th>total_vaccinations</th>\n",
       "      <th>people_vaccinated</th>\n",
       "      <th>people_fully_vaccinated</th>\n",
       "      <th>daily_vaccinations_raw</th>\n",
       "      <th>daily_vaccinations</th>\n",
       "      <th>total_vaccinations_per_hundred</th>\n",
       "      <th>people_vaccinated_per_hundred</th>\n",
       "      <th>people_fully_vaccinated_per_hundred</th>\n",
       "      <th>daily_vaccinations_per_million</th>\n",
       "      <th>vaccines</th>\n",
       "      <th>source_name</th>\n",
       "      <th>source_website</th>\n",
       "    </tr>\n",
       "  </thead>\n",
       "  <tbody>\n",
       "    <tr>\n",
       "      <th>94</th>\n",
       "      <td>Afghanistan</td>\n",
       "      <td>AFG</td>\n",
       "      <td>2021-05-27</td>\n",
       "      <td>593313.0</td>\n",
       "      <td>479574.0</td>\n",
       "      <td>113739.0</td>\n",
       "      <td>2859.0</td>\n",
       "      <td>6487.0</td>\n",
       "      <td>1.49</td>\n",
       "      <td>1.20</td>\n",
       "      <td>0.29</td>\n",
       "      <td>163.0</td>\n",
       "      <td>Johnson&amp;Johnson, Oxford/AstraZeneca, Pfizer/Bi...</td>\n",
       "      <td>World Health Organization</td>\n",
       "      <td>https://covid19.who.int/</td>\n",
       "    </tr>\n",
       "    <tr>\n",
       "      <th>101</th>\n",
       "      <td>Afghanistan</td>\n",
       "      <td>AFG</td>\n",
       "      <td>2021-06-03</td>\n",
       "      <td>630305.0</td>\n",
       "      <td>481800.0</td>\n",
       "      <td>148505.0</td>\n",
       "      <td>4015.0</td>\n",
       "      <td>5285.0</td>\n",
       "      <td>1.58</td>\n",
       "      <td>1.21</td>\n",
       "      <td>0.37</td>\n",
       "      <td>133.0</td>\n",
       "      <td>Johnson&amp;Johnson, Oxford/AstraZeneca, Pfizer/Bi...</td>\n",
       "      <td>World Health Organization</td>\n",
       "      <td>https://covid19.who.int/</td>\n",
       "    </tr>\n",
       "    <tr>\n",
       "      <th>339</th>\n",
       "      <td>Afghanistan</td>\n",
       "      <td>AFG</td>\n",
       "      <td>2022-01-27</td>\n",
       "      <td>5081064.0</td>\n",
       "      <td>4517380.0</td>\n",
       "      <td>3868832.0</td>\n",
       "      <td>6868.0</td>\n",
       "      <td>9802.0</td>\n",
       "      <td>12.76</td>\n",
       "      <td>11.34</td>\n",
       "      <td>9.71</td>\n",
       "      <td>246.0</td>\n",
       "      <td>Johnson&amp;Johnson, Oxford/AstraZeneca, Pfizer/Bi...</td>\n",
       "      <td>World Health Organization</td>\n",
       "      <td>https://covid19.who.int/</td>\n",
       "    </tr>\n",
       "    <tr>\n",
       "      <th>433</th>\n",
       "      <td>Albania</td>\n",
       "      <td>ALB</td>\n",
       "      <td>2021-02-18</td>\n",
       "      <td>3049.0</td>\n",
       "      <td>2438.0</td>\n",
       "      <td>611.0</td>\n",
       "      <td>1348.0</td>\n",
       "      <td>254.0</td>\n",
       "      <td>0.11</td>\n",
       "      <td>0.08</td>\n",
       "      <td>0.02</td>\n",
       "      <td>88.0</td>\n",
       "      <td>Oxford/AstraZeneca, Pfizer/BioNTech, Sinovac, ...</td>\n",
       "      <td>Ministry of Health</td>\n",
       "      <td>https://shendetesia.gov.al/vaksinimi-anticovid...</td>\n",
       "    </tr>\n",
       "    <tr>\n",
       "      <th>515</th>\n",
       "      <td>Albania</td>\n",
       "      <td>ALB</td>\n",
       "      <td>2021-05-11</td>\n",
       "      <td>622507.0</td>\n",
       "      <td>440921.0</td>\n",
       "      <td>181586.0</td>\n",
       "      <td>9548.0</td>\n",
       "      <td>12160.0</td>\n",
       "      <td>21.67</td>\n",
       "      <td>15.35</td>\n",
       "      <td>6.32</td>\n",
       "      <td>4233.0</td>\n",
       "      <td>Oxford/AstraZeneca, Pfizer/BioNTech, Sinovac, ...</td>\n",
       "      <td>Ministry of Health</td>\n",
       "      <td>https://shendetesia.gov.al/vaksinimi-anticovid...</td>\n",
       "    </tr>\n",
       "    <tr>\n",
       "      <th>...</th>\n",
       "      <td>...</td>\n",
       "      <td>...</td>\n",
       "      <td>...</td>\n",
       "      <td>...</td>\n",
       "      <td>...</td>\n",
       "      <td>...</td>\n",
       "      <td>...</td>\n",
       "      <td>...</td>\n",
       "      <td>...</td>\n",
       "      <td>...</td>\n",
       "      <td>...</td>\n",
       "      <td>...</td>\n",
       "      <td>...</td>\n",
       "      <td>...</td>\n",
       "      <td>...</td>\n",
       "    </tr>\n",
       "    <tr>\n",
       "      <th>86507</th>\n",
       "      <td>Zimbabwe</td>\n",
       "      <td>ZWE</td>\n",
       "      <td>2022-03-25</td>\n",
       "      <td>8691642.0</td>\n",
       "      <td>4814582.0</td>\n",
       "      <td>3473523.0</td>\n",
       "      <td>139213.0</td>\n",
       "      <td>69579.0</td>\n",
       "      <td>57.59</td>\n",
       "      <td>31.90</td>\n",
       "      <td>23.02</td>\n",
       "      <td>4610.0</td>\n",
       "      <td>Oxford/AstraZeneca, Sinopharm/Beijing, Sinovac...</td>\n",
       "      <td>Ministry of Health</td>\n",
       "      <td>https://www.arcgis.com/home/webmap/viewer.html...</td>\n",
       "    </tr>\n",
       "    <tr>\n",
       "      <th>86508</th>\n",
       "      <td>Zimbabwe</td>\n",
       "      <td>ZWE</td>\n",
       "      <td>2022-03-26</td>\n",
       "      <td>8791728.0</td>\n",
       "      <td>4886242.0</td>\n",
       "      <td>3487962.0</td>\n",
       "      <td>100086.0</td>\n",
       "      <td>83429.0</td>\n",
       "      <td>58.25</td>\n",
       "      <td>32.38</td>\n",
       "      <td>23.11</td>\n",
       "      <td>5528.0</td>\n",
       "      <td>Oxford/AstraZeneca, Sinopharm/Beijing, Sinovac...</td>\n",
       "      <td>Ministry of Health</td>\n",
       "      <td>https://www.arcgis.com/home/webmap/viewer.html...</td>\n",
       "    </tr>\n",
       "    <tr>\n",
       "      <th>86509</th>\n",
       "      <td>Zimbabwe</td>\n",
       "      <td>ZWE</td>\n",
       "      <td>2022-03-27</td>\n",
       "      <td>8845039.0</td>\n",
       "      <td>4918147.0</td>\n",
       "      <td>3493763.0</td>\n",
       "      <td>53311.0</td>\n",
       "      <td>90629.0</td>\n",
       "      <td>58.61</td>\n",
       "      <td>32.59</td>\n",
       "      <td>23.15</td>\n",
       "      <td>6005.0</td>\n",
       "      <td>Oxford/AstraZeneca, Sinopharm/Beijing, Sinovac...</td>\n",
       "      <td>Ministry of Health</td>\n",
       "      <td>https://www.arcgis.com/home/webmap/viewer.html...</td>\n",
       "    </tr>\n",
       "    <tr>\n",
       "      <th>86510</th>\n",
       "      <td>Zimbabwe</td>\n",
       "      <td>ZWE</td>\n",
       "      <td>2022-03-28</td>\n",
       "      <td>8934360.0</td>\n",
       "      <td>4975433.0</td>\n",
       "      <td>3501493.0</td>\n",
       "      <td>89321.0</td>\n",
       "      <td>100614.0</td>\n",
       "      <td>59.20</td>\n",
       "      <td>32.97</td>\n",
       "      <td>23.20</td>\n",
       "      <td>6667.0</td>\n",
       "      <td>Oxford/AstraZeneca, Sinopharm/Beijing, Sinovac...</td>\n",
       "      <td>Ministry of Health</td>\n",
       "      <td>https://www.arcgis.com/home/webmap/viewer.html...</td>\n",
       "    </tr>\n",
       "    <tr>\n",
       "      <th>86511</th>\n",
       "      <td>Zimbabwe</td>\n",
       "      <td>ZWE</td>\n",
       "      <td>2022-03-29</td>\n",
       "      <td>9039729.0</td>\n",
       "      <td>5053114.0</td>\n",
       "      <td>3510256.0</td>\n",
       "      <td>105369.0</td>\n",
       "      <td>103751.0</td>\n",
       "      <td>59.90</td>\n",
       "      <td>33.48</td>\n",
       "      <td>23.26</td>\n",
       "      <td>6874.0</td>\n",
       "      <td>Oxford/AstraZeneca, Sinopharm/Beijing, Sinovac...</td>\n",
       "      <td>Ministry of Health</td>\n",
       "      <td>https://www.arcgis.com/home/webmap/viewer.html...</td>\n",
       "    </tr>\n",
       "  </tbody>\n",
       "</table>\n",
       "<p>30847 rows × 15 columns</p>\n",
       "</div>"
      ],
      "text/plain": [
       "           country iso_code        date  total_vaccinations  \\\n",
       "94     Afghanistan      AFG  2021-05-27            593313.0   \n",
       "101    Afghanistan      AFG  2021-06-03            630305.0   \n",
       "339    Afghanistan      AFG  2022-01-27           5081064.0   \n",
       "433        Albania      ALB  2021-02-18              3049.0   \n",
       "515        Albania      ALB  2021-05-11            622507.0   \n",
       "...            ...      ...         ...                 ...   \n",
       "86507     Zimbabwe      ZWE  2022-03-25           8691642.0   \n",
       "86508     Zimbabwe      ZWE  2022-03-26           8791728.0   \n",
       "86509     Zimbabwe      ZWE  2022-03-27           8845039.0   \n",
       "86510     Zimbabwe      ZWE  2022-03-28           8934360.0   \n",
       "86511     Zimbabwe      ZWE  2022-03-29           9039729.0   \n",
       "\n",
       "       people_vaccinated  people_fully_vaccinated  daily_vaccinations_raw  \\\n",
       "94              479574.0                 113739.0                  2859.0   \n",
       "101             481800.0                 148505.0                  4015.0   \n",
       "339            4517380.0                3868832.0                  6868.0   \n",
       "433               2438.0                    611.0                  1348.0   \n",
       "515             440921.0                 181586.0                  9548.0   \n",
       "...                  ...                      ...                     ...   \n",
       "86507          4814582.0                3473523.0                139213.0   \n",
       "86508          4886242.0                3487962.0                100086.0   \n",
       "86509          4918147.0                3493763.0                 53311.0   \n",
       "86510          4975433.0                3501493.0                 89321.0   \n",
       "86511          5053114.0                3510256.0                105369.0   \n",
       "\n",
       "       daily_vaccinations  total_vaccinations_per_hundred  \\\n",
       "94                 6487.0                            1.49   \n",
       "101                5285.0                            1.58   \n",
       "339                9802.0                           12.76   \n",
       "433                 254.0                            0.11   \n",
       "515               12160.0                           21.67   \n",
       "...                   ...                             ...   \n",
       "86507             69579.0                           57.59   \n",
       "86508             83429.0                           58.25   \n",
       "86509             90629.0                           58.61   \n",
       "86510            100614.0                           59.20   \n",
       "86511            103751.0                           59.90   \n",
       "\n",
       "       people_vaccinated_per_hundred  people_fully_vaccinated_per_hundred  \\\n",
       "94                              1.20                                 0.29   \n",
       "101                             1.21                                 0.37   \n",
       "339                            11.34                                 9.71   \n",
       "433                             0.08                                 0.02   \n",
       "515                            15.35                                 6.32   \n",
       "...                              ...                                  ...   \n",
       "86507                          31.90                                23.02   \n",
       "86508                          32.38                                23.11   \n",
       "86509                          32.59                                23.15   \n",
       "86510                          32.97                                23.20   \n",
       "86511                          33.48                                23.26   \n",
       "\n",
       "       daily_vaccinations_per_million  \\\n",
       "94                              163.0   \n",
       "101                             133.0   \n",
       "339                             246.0   \n",
       "433                              88.0   \n",
       "515                            4233.0   \n",
       "...                               ...   \n",
       "86507                          4610.0   \n",
       "86508                          5528.0   \n",
       "86509                          6005.0   \n",
       "86510                          6667.0   \n",
       "86511                          6874.0   \n",
       "\n",
       "                                                vaccines  \\\n",
       "94     Johnson&Johnson, Oxford/AstraZeneca, Pfizer/Bi...   \n",
       "101    Johnson&Johnson, Oxford/AstraZeneca, Pfizer/Bi...   \n",
       "339    Johnson&Johnson, Oxford/AstraZeneca, Pfizer/Bi...   \n",
       "433    Oxford/AstraZeneca, Pfizer/BioNTech, Sinovac, ...   \n",
       "515    Oxford/AstraZeneca, Pfizer/BioNTech, Sinovac, ...   \n",
       "...                                                  ...   \n",
       "86507  Oxford/AstraZeneca, Sinopharm/Beijing, Sinovac...   \n",
       "86508  Oxford/AstraZeneca, Sinopharm/Beijing, Sinovac...   \n",
       "86509  Oxford/AstraZeneca, Sinopharm/Beijing, Sinovac...   \n",
       "86510  Oxford/AstraZeneca, Sinopharm/Beijing, Sinovac...   \n",
       "86511  Oxford/AstraZeneca, Sinopharm/Beijing, Sinovac...   \n",
       "\n",
       "                     source_name  \\\n",
       "94     World Health Organization   \n",
       "101    World Health Organization   \n",
       "339    World Health Organization   \n",
       "433           Ministry of Health   \n",
       "515           Ministry of Health   \n",
       "...                          ...   \n",
       "86507         Ministry of Health   \n",
       "86508         Ministry of Health   \n",
       "86509         Ministry of Health   \n",
       "86510         Ministry of Health   \n",
       "86511         Ministry of Health   \n",
       "\n",
       "                                          source_website  \n",
       "94                              https://covid19.who.int/  \n",
       "101                             https://covid19.who.int/  \n",
       "339                             https://covid19.who.int/  \n",
       "433    https://shendetesia.gov.al/vaksinimi-anticovid...  \n",
       "515    https://shendetesia.gov.al/vaksinimi-anticovid...  \n",
       "...                                                  ...  \n",
       "86507  https://www.arcgis.com/home/webmap/viewer.html...  \n",
       "86508  https://www.arcgis.com/home/webmap/viewer.html...  \n",
       "86509  https://www.arcgis.com/home/webmap/viewer.html...  \n",
       "86510  https://www.arcgis.com/home/webmap/viewer.html...  \n",
       "86511  https://www.arcgis.com/home/webmap/viewer.html...  \n",
       "\n",
       "[30847 rows x 15 columns]"
      ]
     },
     "execution_count": 15,
     "metadata": {},
     "output_type": "execute_result"
    }
   ],
   "source": [
    "clean_value"
   ]
  },
  {
   "cell_type": "code",
   "execution_count": 16,
   "metadata": {},
   "outputs": [],
   "source": [
    "num_countries = covid_vaccin_df.shape[0]"
   ]
  },
  {
   "cell_type": "code",
   "execution_count": 17,
   "metadata": {},
   "outputs": [
    {
     "data": {
      "text/plain": [
       "86512"
      ]
     },
     "execution_count": 17,
     "metadata": {},
     "output_type": "execute_result"
    }
   ],
   "source": [
    "num_countries"
   ]
  },
  {
   "cell_type": "code",
   "execution_count": 18,
   "metadata": {},
   "outputs": [
    {
     "data": {
      "text/plain": [
       "array(['Afghanistan', 'Albania', 'Algeria', 'Andorra', 'Angola',\n",
       "       'Anguilla', 'Antigua and Barbuda', 'Argentina', 'Armenia', 'Aruba',\n",
       "       'Australia', 'Austria', 'Azerbaijan', 'Bahamas', 'Bahrain',\n",
       "       'Bangladesh', 'Barbados', 'Belarus', 'Belgium', 'Belize', 'Benin',\n",
       "       'Bermuda', 'Bhutan', 'Bolivia', 'Bonaire Sint Eustatius and Saba',\n",
       "       'Bosnia and Herzegovina', 'Botswana', 'Brazil',\n",
       "       'British Virgin Islands', 'Brunei', 'Bulgaria', 'Burkina Faso',\n",
       "       'Burundi', 'Cambodia', 'Cameroon', 'Canada', 'Cape Verde',\n",
       "       'Cayman Islands', 'Central African Republic', 'Chad', 'Chile',\n",
       "       'China', 'Colombia', 'Comoros', 'Congo', 'Cook Islands',\n",
       "       'Costa Rica', \"Cote d'Ivoire\", 'Croatia', 'Cuba', 'Curacao',\n",
       "       'Cyprus', 'Czechia', 'Democratic Republic of Congo', 'Denmark',\n",
       "       'Djibouti', 'Dominica', 'Dominican Republic', 'Ecuador', 'Egypt',\n",
       "       'El Salvador', 'England', 'Equatorial Guinea', 'Estonia',\n",
       "       'Eswatini', 'Ethiopia', 'Faeroe Islands', 'Falkland Islands',\n",
       "       'Fiji', 'Finland', 'France', 'French Polynesia', 'Gabon', 'Gambia',\n",
       "       'Georgia', 'Germany', 'Ghana', 'Gibraltar', 'Greece', 'Greenland',\n",
       "       'Grenada', 'Guatemala', 'Guernsey', 'Guinea', 'Guinea-Bissau',\n",
       "       'Guyana', 'Haiti', 'Honduras', 'Hong Kong', 'Hungary', 'Iceland',\n",
       "       'India', 'Indonesia', 'Iran', 'Iraq', 'Ireland', 'Isle of Man',\n",
       "       'Israel', 'Italy', 'Jamaica', 'Japan', 'Jersey', 'Jordan',\n",
       "       'Kazakhstan', 'Kenya', 'Kiribati', 'Kosovo', 'Kuwait',\n",
       "       'Kyrgyzstan', 'Laos', 'Latvia', 'Lebanon', 'Lesotho', 'Liberia',\n",
       "       'Libya', 'Liechtenstein', 'Lithuania', 'Luxembourg', 'Macao',\n",
       "       'Madagascar', 'Malawi', 'Malaysia', 'Maldives', 'Mali', 'Malta',\n",
       "       'Mauritania', 'Mauritius', 'Mexico', 'Moldova', 'Monaco',\n",
       "       'Mongolia', 'Montenegro', 'Montserrat', 'Morocco', 'Mozambique',\n",
       "       'Myanmar', 'Namibia', 'Nauru', 'Nepal', 'Netherlands',\n",
       "       'New Caledonia', 'New Zealand', 'Nicaragua', 'Niger', 'Nigeria',\n",
       "       'Niue', 'North Macedonia', 'Northern Cyprus', 'Northern Ireland',\n",
       "       'Norway', 'Oman', 'Pakistan', 'Palestine', 'Panama',\n",
       "       'Papua New Guinea', 'Paraguay', 'Peru', 'Philippines', 'Pitcairn',\n",
       "       'Poland', 'Portugal', 'Qatar', 'Romania', 'Russia', 'Rwanda',\n",
       "       'Saint Helena', 'Saint Kitts and Nevis', 'Saint Lucia',\n",
       "       'Saint Vincent and the Grenadines', 'Samoa', 'San Marino',\n",
       "       'Sao Tome and Principe', 'Saudi Arabia', 'Scotland', 'Senegal',\n",
       "       'Serbia', 'Seychelles', 'Sierra Leone', 'Singapore',\n",
       "       'Sint Maarten (Dutch part)', 'Slovakia', 'Slovenia',\n",
       "       'Solomon Islands', 'Somalia', 'South Africa', 'South Korea',\n",
       "       'South Sudan', 'Spain', 'Sri Lanka', 'Sudan', 'Suriname', 'Sweden',\n",
       "       'Switzerland', 'Syria', 'Taiwan', 'Tajikistan', 'Tanzania',\n",
       "       'Thailand', 'Timor', 'Togo', 'Tokelau', 'Tonga',\n",
       "       'Trinidad and Tobago', 'Tunisia', 'Turkey', 'Turkmenistan',\n",
       "       'Turks and Caicos Islands', 'Tuvalu', 'Uganda', 'Ukraine',\n",
       "       'United Arab Emirates', 'United Kingdom', 'United States',\n",
       "       'Uruguay', 'Uzbekistan', 'Vanuatu', 'Venezuela', 'Vietnam',\n",
       "       'Wales', 'Wallis and Futuna', 'Yemen', 'Zambia', 'Zimbabwe'],\n",
       "      dtype=object)"
      ]
     },
     "execution_count": 18,
     "metadata": {},
     "output_type": "execute_result"
    }
   ],
   "source": [
    "covid_vaccin_df.country.unique()"
   ]
  },
  {
   "cell_type": "code",
   "execution_count": 19,
   "metadata": {},
   "outputs": [
    {
     "data": {
      "text/plain": [
       "223"
      ]
     },
     "execution_count": 19,
     "metadata": {},
     "output_type": "execute_result"
    }
   ],
   "source": [
    "len(covid_vaccin_df.country.unique())"
   ]
  },
  {
   "cell_type": "code",
   "execution_count": 20,
   "metadata": {},
   "outputs": [
    {
     "data": {
      "text/plain": [
       "Index(['country', 'iso_code', 'date', 'total_vaccinations',\n",
       "       'people_vaccinated', 'people_fully_vaccinated',\n",
       "       'daily_vaccinations_raw', 'daily_vaccinations',\n",
       "       'total_vaccinations_per_hundred', 'people_vaccinated_per_hundred',\n",
       "       'people_fully_vaccinated_per_hundred', 'daily_vaccinations_per_million',\n",
       "       'vaccines', 'source_name', 'source_website'],\n",
       "      dtype='object')"
      ]
     },
     "execution_count": 20,
     "metadata": {},
     "output_type": "execute_result"
    }
   ],
   "source": [
    "covid_vaccin_df.columns"
   ]
  },
  {
   "cell_type": "code",
   "execution_count": 21,
   "metadata": {},
   "outputs": [
    {
     "name": "stdout",
     "output_type": "stream",
     "text": [
      "<class 'pandas.core.frame.DataFrame'>\n",
      "RangeIndex: 86512 entries, 0 to 86511\n",
      "Data columns (total 15 columns):\n",
      " #   Column                               Non-Null Count  Dtype  \n",
      "---  ------                               --------------  -----  \n",
      " 0   country                              86512 non-null  object \n",
      " 1   iso_code                             86512 non-null  object \n",
      " 2   date                                 86512 non-null  object \n",
      " 3   total_vaccinations                   43607 non-null  float64\n",
      " 4   people_vaccinated                    41294 non-null  float64\n",
      " 5   people_fully_vaccinated              38802 non-null  float64\n",
      " 6   daily_vaccinations_raw               35362 non-null  float64\n",
      " 7   daily_vaccinations                   86213 non-null  float64\n",
      " 8   total_vaccinations_per_hundred       43607 non-null  float64\n",
      " 9   people_vaccinated_per_hundred        41294 non-null  float64\n",
      " 10  people_fully_vaccinated_per_hundred  38802 non-null  float64\n",
      " 11  daily_vaccinations_per_million       86213 non-null  float64\n",
      " 12  vaccines                             86512 non-null  object \n",
      " 13  source_name                          86512 non-null  object \n",
      " 14  source_website                       86512 non-null  object \n",
      "dtypes: float64(9), object(6)\n",
      "memory usage: 9.9+ MB\n"
     ]
    }
   ],
   "source": [
    "covid_vaccin_df.info()"
   ]
  },
  {
   "cell_type": "code",
   "execution_count": 22,
   "metadata": {},
   "outputs": [
    {
     "data": {
      "text/html": [
       "<div>\n",
       "<style scoped>\n",
       "    .dataframe tbody tr th:only-of-type {\n",
       "        vertical-align: middle;\n",
       "    }\n",
       "\n",
       "    .dataframe tbody tr th {\n",
       "        vertical-align: top;\n",
       "    }\n",
       "\n",
       "    .dataframe thead th {\n",
       "        text-align: right;\n",
       "    }\n",
       "</style>\n",
       "<table border=\"1\" class=\"dataframe\">\n",
       "  <thead>\n",
       "    <tr style=\"text-align: right;\">\n",
       "      <th></th>\n",
       "      <th>total_vaccinations</th>\n",
       "      <th>people_vaccinated</th>\n",
       "      <th>people_fully_vaccinated</th>\n",
       "      <th>daily_vaccinations_raw</th>\n",
       "      <th>daily_vaccinations</th>\n",
       "      <th>total_vaccinations_per_hundred</th>\n",
       "      <th>people_vaccinated_per_hundred</th>\n",
       "      <th>people_fully_vaccinated_per_hundred</th>\n",
       "      <th>daily_vaccinations_per_million</th>\n",
       "    </tr>\n",
       "  </thead>\n",
       "  <tbody>\n",
       "    <tr>\n",
       "      <th>count</th>\n",
       "      <td>4.360700e+04</td>\n",
       "      <td>4.129400e+04</td>\n",
       "      <td>3.880200e+04</td>\n",
       "      <td>3.536200e+04</td>\n",
       "      <td>8.621300e+04</td>\n",
       "      <td>43607.000000</td>\n",
       "      <td>41294.000000</td>\n",
       "      <td>38802.000000</td>\n",
       "      <td>86213.000000</td>\n",
       "    </tr>\n",
       "    <tr>\n",
       "      <th>mean</th>\n",
       "      <td>4.592964e+07</td>\n",
       "      <td>1.770508e+07</td>\n",
       "      <td>1.413830e+07</td>\n",
       "      <td>2.705996e+05</td>\n",
       "      <td>1.313055e+05</td>\n",
       "      <td>80.188543</td>\n",
       "      <td>40.927317</td>\n",
       "      <td>35.523243</td>\n",
       "      <td>3257.049157</td>\n",
       "    </tr>\n",
       "    <tr>\n",
       "      <th>std</th>\n",
       "      <td>2.246004e+08</td>\n",
       "      <td>7.078731e+07</td>\n",
       "      <td>5.713920e+07</td>\n",
       "      <td>1.212427e+06</td>\n",
       "      <td>7.682388e+05</td>\n",
       "      <td>67.913577</td>\n",
       "      <td>29.290759</td>\n",
       "      <td>28.376252</td>\n",
       "      <td>3934.312440</td>\n",
       "    </tr>\n",
       "    <tr>\n",
       "      <th>min</th>\n",
       "      <td>0.000000e+00</td>\n",
       "      <td>0.000000e+00</td>\n",
       "      <td>1.000000e+00</td>\n",
       "      <td>0.000000e+00</td>\n",
       "      <td>0.000000e+00</td>\n",
       "      <td>0.000000</td>\n",
       "      <td>0.000000</td>\n",
       "      <td>0.000000</td>\n",
       "      <td>0.000000</td>\n",
       "    </tr>\n",
       "    <tr>\n",
       "      <th>25%</th>\n",
       "      <td>5.264100e+05</td>\n",
       "      <td>3.494642e+05</td>\n",
       "      <td>2.439622e+05</td>\n",
       "      <td>4.668000e+03</td>\n",
       "      <td>9.000000e+02</td>\n",
       "      <td>16.050000</td>\n",
       "      <td>11.370000</td>\n",
       "      <td>7.020000</td>\n",
       "      <td>636.000000</td>\n",
       "    </tr>\n",
       "    <tr>\n",
       "      <th>50%</th>\n",
       "      <td>3.590096e+06</td>\n",
       "      <td>2.187310e+06</td>\n",
       "      <td>1.722140e+06</td>\n",
       "      <td>2.530900e+04</td>\n",
       "      <td>7.343000e+03</td>\n",
       "      <td>67.520000</td>\n",
       "      <td>41.435000</td>\n",
       "      <td>31.750000</td>\n",
       "      <td>2050.000000</td>\n",
       "    </tr>\n",
       "    <tr>\n",
       "      <th>75%</th>\n",
       "      <td>1.701230e+07</td>\n",
       "      <td>9.152520e+06</td>\n",
       "      <td>7.559870e+06</td>\n",
       "      <td>1.234925e+05</td>\n",
       "      <td>4.409800e+04</td>\n",
       "      <td>132.735000</td>\n",
       "      <td>67.910000</td>\n",
       "      <td>62.080000</td>\n",
       "      <td>4682.000000</td>\n",
       "    </tr>\n",
       "    <tr>\n",
       "      <th>max</th>\n",
       "      <td>3.263129e+09</td>\n",
       "      <td>1.275541e+09</td>\n",
       "      <td>1.240777e+09</td>\n",
       "      <td>2.474100e+07</td>\n",
       "      <td>2.242429e+07</td>\n",
       "      <td>345.370000</td>\n",
       "      <td>124.760000</td>\n",
       "      <td>122.370000</td>\n",
       "      <td>117497.000000</td>\n",
       "    </tr>\n",
       "  </tbody>\n",
       "</table>\n",
       "</div>"
      ],
      "text/plain": [
       "       total_vaccinations  people_vaccinated  people_fully_vaccinated  \\\n",
       "count        4.360700e+04       4.129400e+04             3.880200e+04   \n",
       "mean         4.592964e+07       1.770508e+07             1.413830e+07   \n",
       "std          2.246004e+08       7.078731e+07             5.713920e+07   \n",
       "min          0.000000e+00       0.000000e+00             1.000000e+00   \n",
       "25%          5.264100e+05       3.494642e+05             2.439622e+05   \n",
       "50%          3.590096e+06       2.187310e+06             1.722140e+06   \n",
       "75%          1.701230e+07       9.152520e+06             7.559870e+06   \n",
       "max          3.263129e+09       1.275541e+09             1.240777e+09   \n",
       "\n",
       "       daily_vaccinations_raw  daily_vaccinations  \\\n",
       "count            3.536200e+04        8.621300e+04   \n",
       "mean             2.705996e+05        1.313055e+05   \n",
       "std              1.212427e+06        7.682388e+05   \n",
       "min              0.000000e+00        0.000000e+00   \n",
       "25%              4.668000e+03        9.000000e+02   \n",
       "50%              2.530900e+04        7.343000e+03   \n",
       "75%              1.234925e+05        4.409800e+04   \n",
       "max              2.474100e+07        2.242429e+07   \n",
       "\n",
       "       total_vaccinations_per_hundred  people_vaccinated_per_hundred  \\\n",
       "count                    43607.000000                   41294.000000   \n",
       "mean                        80.188543                      40.927317   \n",
       "std                         67.913577                      29.290759   \n",
       "min                          0.000000                       0.000000   \n",
       "25%                         16.050000                      11.370000   \n",
       "50%                         67.520000                      41.435000   \n",
       "75%                        132.735000                      67.910000   \n",
       "max                        345.370000                     124.760000   \n",
       "\n",
       "       people_fully_vaccinated_per_hundred  daily_vaccinations_per_million  \n",
       "count                         38802.000000                    86213.000000  \n",
       "mean                             35.523243                     3257.049157  \n",
       "std                              28.376252                     3934.312440  \n",
       "min                               0.000000                        0.000000  \n",
       "25%                               7.020000                      636.000000  \n",
       "50%                              31.750000                     2050.000000  \n",
       "75%                              62.080000                     4682.000000  \n",
       "max                             122.370000                   117497.000000  "
      ]
     },
     "execution_count": 22,
     "metadata": {},
     "output_type": "execute_result"
    }
   ],
   "source": [
    "covid_vaccin_df.describe()"
   ]
  },
  {
   "cell_type": "code",
   "execution_count": 23,
   "metadata": {},
   "outputs": [
    {
     "data": {
      "text/html": [
       "<div>\n",
       "<style scoped>\n",
       "    .dataframe tbody tr th:only-of-type {\n",
       "        vertical-align: middle;\n",
       "    }\n",
       "\n",
       "    .dataframe tbody tr th {\n",
       "        vertical-align: top;\n",
       "    }\n",
       "\n",
       "    .dataframe thead th {\n",
       "        text-align: right;\n",
       "    }\n",
       "</style>\n",
       "<table border=\"1\" class=\"dataframe\">\n",
       "  <thead>\n",
       "    <tr style=\"text-align: right;\">\n",
       "      <th></th>\n",
       "      <th>date</th>\n",
       "      <th>total_vaccinations</th>\n",
       "      <th>people_vaccinated</th>\n",
       "    </tr>\n",
       "  </thead>\n",
       "  <tbody>\n",
       "    <tr>\n",
       "      <th>94</th>\n",
       "      <td>2021-05-27</td>\n",
       "      <td>593313.0</td>\n",
       "      <td>479574.0</td>\n",
       "    </tr>\n",
       "    <tr>\n",
       "      <th>101</th>\n",
       "      <td>2021-06-03</td>\n",
       "      <td>630305.0</td>\n",
       "      <td>481800.0</td>\n",
       "    </tr>\n",
       "    <tr>\n",
       "      <th>339</th>\n",
       "      <td>2022-01-27</td>\n",
       "      <td>5081064.0</td>\n",
       "      <td>4517380.0</td>\n",
       "    </tr>\n",
       "    <tr>\n",
       "      <th>433</th>\n",
       "      <td>2021-02-18</td>\n",
       "      <td>3049.0</td>\n",
       "      <td>2438.0</td>\n",
       "    </tr>\n",
       "    <tr>\n",
       "      <th>515</th>\n",
       "      <td>2021-05-11</td>\n",
       "      <td>622507.0</td>\n",
       "      <td>440921.0</td>\n",
       "    </tr>\n",
       "    <tr>\n",
       "      <th>...</th>\n",
       "      <td>...</td>\n",
       "      <td>...</td>\n",
       "      <td>...</td>\n",
       "    </tr>\n",
       "    <tr>\n",
       "      <th>86507</th>\n",
       "      <td>2022-03-25</td>\n",
       "      <td>8691642.0</td>\n",
       "      <td>4814582.0</td>\n",
       "    </tr>\n",
       "    <tr>\n",
       "      <th>86508</th>\n",
       "      <td>2022-03-26</td>\n",
       "      <td>8791728.0</td>\n",
       "      <td>4886242.0</td>\n",
       "    </tr>\n",
       "    <tr>\n",
       "      <th>86509</th>\n",
       "      <td>2022-03-27</td>\n",
       "      <td>8845039.0</td>\n",
       "      <td>4918147.0</td>\n",
       "    </tr>\n",
       "    <tr>\n",
       "      <th>86510</th>\n",
       "      <td>2022-03-28</td>\n",
       "      <td>8934360.0</td>\n",
       "      <td>4975433.0</td>\n",
       "    </tr>\n",
       "    <tr>\n",
       "      <th>86511</th>\n",
       "      <td>2022-03-29</td>\n",
       "      <td>9039729.0</td>\n",
       "      <td>5053114.0</td>\n",
       "    </tr>\n",
       "  </tbody>\n",
       "</table>\n",
       "<p>30847 rows × 3 columns</p>\n",
       "</div>"
      ],
      "text/plain": [
       "             date  total_vaccinations  people_vaccinated\n",
       "94     2021-05-27            593313.0           479574.0\n",
       "101    2021-06-03            630305.0           481800.0\n",
       "339    2022-01-27           5081064.0          4517380.0\n",
       "433    2021-02-18              3049.0             2438.0\n",
       "515    2021-05-11            622507.0           440921.0\n",
       "...           ...                 ...                ...\n",
       "86507  2022-03-25           8691642.0          4814582.0\n",
       "86508  2022-03-26           8791728.0          4886242.0\n",
       "86509  2022-03-27           8845039.0          4918147.0\n",
       "86510  2022-03-28           8934360.0          4975433.0\n",
       "86511  2022-03-29           9039729.0          5053114.0\n",
       "\n",
       "[30847 rows x 3 columns]"
      ]
     },
     "execution_count": 23,
     "metadata": {},
     "output_type": "execute_result"
    }
   ],
   "source": [
    "clean_value[['date','total_vaccinations','people_vaccinated']]"
   ]
  },
  {
   "cell_type": "code",
   "execution_count": 24,
   "metadata": {},
   "outputs": [
    {
     "data": {
      "text/plain": [
       "16225"
      ]
     },
     "execution_count": 24,
     "metadata": {},
     "output_type": "execute_result"
    }
   ],
   "source": [
    "covid_vaccin_df['total_vaccinations'].idxmax()"
   ]
  },
  {
   "cell_type": "code",
   "execution_count": 25,
   "metadata": {
    "scrolled": true
   },
   "outputs": [
    {
     "data": {
      "text/plain": [
       "country                                                                            China\n",
       "iso_code                                                                             CHN\n",
       "date                                                                          2022-03-29\n",
       "total_vaccinations                                                          3263129000.0\n",
       "people_vaccinated                                                                    NaN\n",
       "people_fully_vaccinated                                                              NaN\n",
       "daily_vaccinations_raw                                                         4087000.0\n",
       "daily_vaccinations                                                             4075429.0\n",
       "total_vaccinations_per_hundred                                                    225.94\n",
       "people_vaccinated_per_hundred                                                        NaN\n",
       "people_fully_vaccinated_per_hundred                                                  NaN\n",
       "daily_vaccinations_per_million                                                    2822.0\n",
       "vaccines                               CanSino, Sinopharm/Beijing, Sinopharm/Wuhan, S...\n",
       "source_name                                                   National Health Commission\n",
       "source_website                         http://www.nhc.gov.cn/jkj/s7915/202203/d81d339...\n",
       "Name: 16225, dtype: object"
      ]
     },
     "execution_count": 25,
     "metadata": {},
     "output_type": "execute_result"
    }
   ],
   "source": [
    "covid_vaccin_df.loc[16225]"
   ]
  },
  {
   "cell_type": "code",
   "execution_count": 26,
   "metadata": {},
   "outputs": [
    {
     "data": {
      "text/html": [
       "<div>\n",
       "<style scoped>\n",
       "    .dataframe tbody tr th:only-of-type {\n",
       "        vertical-align: middle;\n",
       "    }\n",
       "\n",
       "    .dataframe tbody tr th {\n",
       "        vertical-align: top;\n",
       "    }\n",
       "\n",
       "    .dataframe thead th {\n",
       "        text-align: right;\n",
       "    }\n",
       "</style>\n",
       "<table border=\"1\" class=\"dataframe\">\n",
       "  <thead>\n",
       "    <tr style=\"text-align: right;\">\n",
       "      <th></th>\n",
       "      <th>country</th>\n",
       "      <th>iso_code</th>\n",
       "      <th>date</th>\n",
       "      <th>total_vaccinations</th>\n",
       "      <th>people_vaccinated</th>\n",
       "      <th>people_fully_vaccinated</th>\n",
       "      <th>daily_vaccinations_raw</th>\n",
       "      <th>daily_vaccinations</th>\n",
       "      <th>total_vaccinations_per_hundred</th>\n",
       "      <th>people_vaccinated_per_hundred</th>\n",
       "      <th>people_fully_vaccinated_per_hundred</th>\n",
       "      <th>daily_vaccinations_per_million</th>\n",
       "      <th>vaccines</th>\n",
       "      <th>source_name</th>\n",
       "      <th>source_website</th>\n",
       "    </tr>\n",
       "  </thead>\n",
       "  <tbody>\n",
       "    <tr>\n",
       "      <th>30235</th>\n",
       "      <td>Gibraltar</td>\n",
       "      <td>GIB</td>\n",
       "      <td>2022-03-24</td>\n",
       "      <td>116358.0</td>\n",
       "      <td>42034.0</td>\n",
       "      <td>41228.0</td>\n",
       "      <td>511.0</td>\n",
       "      <td>226.0</td>\n",
       "      <td>345.37</td>\n",
       "      <td>124.76</td>\n",
       "      <td>122.37</td>\n",
       "      <td>6708.0</td>\n",
       "      <td>Oxford/AstraZeneca, Pfizer/BioNTech</td>\n",
       "      <td>Government of Gibraltar</td>\n",
       "      <td>https://twitter.com/GibraltarGov/status/150700...</td>\n",
       "    </tr>\n",
       "    <tr>\n",
       "      <th>30234</th>\n",
       "      <td>Gibraltar</td>\n",
       "      <td>GIB</td>\n",
       "      <td>2022-03-23</td>\n",
       "      <td>115847.0</td>\n",
       "      <td>42028.0</td>\n",
       "      <td>41205.0</td>\n",
       "      <td>266.0</td>\n",
       "      <td>181.0</td>\n",
       "      <td>343.85</td>\n",
       "      <td>124.75</td>\n",
       "      <td>122.30</td>\n",
       "      <td>5372.0</td>\n",
       "      <td>Oxford/AstraZeneca, Pfizer/BioNTech</td>\n",
       "      <td>Government of Gibraltar</td>\n",
       "      <td>https://twitter.com/GibraltarGov/status/150700...</td>\n",
       "    </tr>\n",
       "    <tr>\n",
       "      <th>30233</th>\n",
       "      <td>Gibraltar</td>\n",
       "      <td>GIB</td>\n",
       "      <td>2022-03-22</td>\n",
       "      <td>115581.0</td>\n",
       "      <td>42026.0</td>\n",
       "      <td>41123.0</td>\n",
       "      <td>308.0</td>\n",
       "      <td>166.0</td>\n",
       "      <td>343.06</td>\n",
       "      <td>124.74</td>\n",
       "      <td>122.06</td>\n",
       "      <td>4927.0</td>\n",
       "      <td>Oxford/AstraZeneca, Pfizer/BioNTech</td>\n",
       "      <td>Government of Gibraltar</td>\n",
       "      <td>https://twitter.com/GibraltarGov/status/150700...</td>\n",
       "    </tr>\n",
       "    <tr>\n",
       "      <th>30232</th>\n",
       "      <td>Gibraltar</td>\n",
       "      <td>GIB</td>\n",
       "      <td>2022-03-21</td>\n",
       "      <td>115273.0</td>\n",
       "      <td>42025.0</td>\n",
       "      <td>41119.0</td>\n",
       "      <td>NaN</td>\n",
       "      <td>130.0</td>\n",
       "      <td>342.15</td>\n",
       "      <td>124.74</td>\n",
       "      <td>122.05</td>\n",
       "      <td>3859.0</td>\n",
       "      <td>Oxford/AstraZeneca, Pfizer/BioNTech</td>\n",
       "      <td>Government of Gibraltar</td>\n",
       "      <td>https://twitter.com/GibraltarGov/status/150700...</td>\n",
       "    </tr>\n",
       "    <tr>\n",
       "      <th>30229</th>\n",
       "      <td>Gibraltar</td>\n",
       "      <td>GIB</td>\n",
       "      <td>2022-03-18</td>\n",
       "      <td>115000.0</td>\n",
       "      <td>NaN</td>\n",
       "      <td>41108.0</td>\n",
       "      <td>226.0</td>\n",
       "      <td>114.0</td>\n",
       "      <td>341.34</td>\n",
       "      <td>NaN</td>\n",
       "      <td>122.01</td>\n",
       "      <td>3384.0</td>\n",
       "      <td>Oxford/AstraZeneca, Pfizer/BioNTech</td>\n",
       "      <td>Government of Gibraltar</td>\n",
       "      <td>https://twitter.com/GibraltarGov/status/150700...</td>\n",
       "    </tr>\n",
       "    <tr>\n",
       "      <th>30228</th>\n",
       "      <td>Gibraltar</td>\n",
       "      <td>GIB</td>\n",
       "      <td>2022-03-17</td>\n",
       "      <td>114774.0</td>\n",
       "      <td>NaN</td>\n",
       "      <td>41101.0</td>\n",
       "      <td>193.0</td>\n",
       "      <td>116.0</td>\n",
       "      <td>340.67</td>\n",
       "      <td>NaN</td>\n",
       "      <td>121.99</td>\n",
       "      <td>3443.0</td>\n",
       "      <td>Oxford/AstraZeneca, Pfizer/BioNTech</td>\n",
       "      <td>Government of Gibraltar</td>\n",
       "      <td>https://twitter.com/GibraltarGov/status/150700...</td>\n",
       "    </tr>\n",
       "    <tr>\n",
       "      <th>30227</th>\n",
       "      <td>Gibraltar</td>\n",
       "      <td>GIB</td>\n",
       "      <td>2022-03-16</td>\n",
       "      <td>114581.0</td>\n",
       "      <td>NaN</td>\n",
       "      <td>40991.0</td>\n",
       "      <td>161.0</td>\n",
       "      <td>123.0</td>\n",
       "      <td>340.09</td>\n",
       "      <td>NaN</td>\n",
       "      <td>121.67</td>\n",
       "      <td>3651.0</td>\n",
       "      <td>Oxford/AstraZeneca, Pfizer/BioNTech</td>\n",
       "      <td>Government of Gibraltar</td>\n",
       "      <td>https://twitter.com/GibraltarGov/status/150700...</td>\n",
       "    </tr>\n",
       "    <tr>\n",
       "      <th>30226</th>\n",
       "      <td>Gibraltar</td>\n",
       "      <td>GIB</td>\n",
       "      <td>2022-03-15</td>\n",
       "      <td>114420.0</td>\n",
       "      <td>42012.0</td>\n",
       "      <td>40969.0</td>\n",
       "      <td>NaN</td>\n",
       "      <td>161.0</td>\n",
       "      <td>339.62</td>\n",
       "      <td>124.70</td>\n",
       "      <td>121.60</td>\n",
       "      <td>4779.0</td>\n",
       "      <td>Oxford/AstraZeneca, Pfizer/BioNTech</td>\n",
       "      <td>Government of Gibraltar</td>\n",
       "      <td>https://twitter.com/GibraltarGov/status/150700...</td>\n",
       "    </tr>\n",
       "    <tr>\n",
       "      <th>30222</th>\n",
       "      <td>Gibraltar</td>\n",
       "      <td>GIB</td>\n",
       "      <td>2022-03-11</td>\n",
       "      <td>114204.0</td>\n",
       "      <td>42010.0</td>\n",
       "      <td>40966.0</td>\n",
       "      <td>NaN</td>\n",
       "      <td>136.0</td>\n",
       "      <td>338.97</td>\n",
       "      <td>124.69</td>\n",
       "      <td>121.59</td>\n",
       "      <td>4037.0</td>\n",
       "      <td>Oxford/AstraZeneca, Pfizer/BioNTech</td>\n",
       "      <td>Government of Gibraltar</td>\n",
       "      <td>https://twitter.com/GibraltarGov/status/150700...</td>\n",
       "    </tr>\n",
       "    <tr>\n",
       "      <th>30220</th>\n",
       "      <td>Gibraltar</td>\n",
       "      <td>GIB</td>\n",
       "      <td>2022-03-09</td>\n",
       "      <td>113720.0</td>\n",
       "      <td>41998.0</td>\n",
       "      <td>40958.0</td>\n",
       "      <td>425.0</td>\n",
       "      <td>78.0</td>\n",
       "      <td>337.54</td>\n",
       "      <td>124.66</td>\n",
       "      <td>121.57</td>\n",
       "      <td>2315.0</td>\n",
       "      <td>Oxford/AstraZeneca, Pfizer/BioNTech</td>\n",
       "      <td>Government of Gibraltar</td>\n",
       "      <td>https://twitter.com/GibraltarGov/status/150700...</td>\n",
       "    </tr>\n",
       "    <tr>\n",
       "      <th>30219</th>\n",
       "      <td>Gibraltar</td>\n",
       "      <td>GIB</td>\n",
       "      <td>2022-03-08</td>\n",
       "      <td>113295.0</td>\n",
       "      <td>41998.0</td>\n",
       "      <td>40951.0</td>\n",
       "      <td>NaN</td>\n",
       "      <td>22.0</td>\n",
       "      <td>336.28</td>\n",
       "      <td>124.66</td>\n",
       "      <td>121.55</td>\n",
       "      <td>653.0</td>\n",
       "      <td>Oxford/AstraZeneca, Pfizer/BioNTech</td>\n",
       "      <td>Government of Gibraltar</td>\n",
       "      <td>https://twitter.com/GibraltarGov/status/150700...</td>\n",
       "    </tr>\n",
       "    <tr>\n",
       "      <th>30215</th>\n",
       "      <td>Gibraltar</td>\n",
       "      <td>GIB</td>\n",
       "      <td>2022-03-04</td>\n",
       "      <td>113255.0</td>\n",
       "      <td>41995.0</td>\n",
       "      <td>40943.0</td>\n",
       "      <td>NaN</td>\n",
       "      <td>40.0</td>\n",
       "      <td>336.16</td>\n",
       "      <td>124.65</td>\n",
       "      <td>121.53</td>\n",
       "      <td>1187.0</td>\n",
       "      <td>Oxford/AstraZeneca, Pfizer/BioNTech</td>\n",
       "      <td>Government of Gibraltar</td>\n",
       "      <td>https://twitter.com/GibraltarGov/status/150700...</td>\n",
       "    </tr>\n",
       "    <tr>\n",
       "      <th>30213</th>\n",
       "      <td>Gibraltar</td>\n",
       "      <td>GIB</td>\n",
       "      <td>2022-03-02</td>\n",
       "      <td>113176.0</td>\n",
       "      <td>41978.0</td>\n",
       "      <td>40922.0</td>\n",
       "      <td>38.0</td>\n",
       "      <td>51.0</td>\n",
       "      <td>335.92</td>\n",
       "      <td>124.60</td>\n",
       "      <td>121.46</td>\n",
       "      <td>1514.0</td>\n",
       "      <td>Oxford/AstraZeneca, Pfizer/BioNTech</td>\n",
       "      <td>Government of Gibraltar</td>\n",
       "      <td>https://twitter.com/GibraltarGov/status/150700...</td>\n",
       "    </tr>\n",
       "    <tr>\n",
       "      <th>30212</th>\n",
       "      <td>Gibraltar</td>\n",
       "      <td>GIB</td>\n",
       "      <td>2022-03-01</td>\n",
       "      <td>113138.0</td>\n",
       "      <td>41968.0</td>\n",
       "      <td>40917.0</td>\n",
       "      <td>NaN</td>\n",
       "      <td>53.0</td>\n",
       "      <td>335.81</td>\n",
       "      <td>124.57</td>\n",
       "      <td>121.45</td>\n",
       "      <td>1573.0</td>\n",
       "      <td>Oxford/AstraZeneca, Pfizer/BioNTech</td>\n",
       "      <td>Government of Gibraltar</td>\n",
       "      <td>https://twitter.com/GibraltarGov/status/150700...</td>\n",
       "    </tr>\n",
       "    <tr>\n",
       "      <th>30210</th>\n",
       "      <td>Gibraltar</td>\n",
       "      <td>GIB</td>\n",
       "      <td>2022-02-27</td>\n",
       "      <td>113009.0</td>\n",
       "      <td>41902.0</td>\n",
       "      <td>40905.0</td>\n",
       "      <td>NaN</td>\n",
       "      <td>49.0</td>\n",
       "      <td>335.43</td>\n",
       "      <td>124.37</td>\n",
       "      <td>121.41</td>\n",
       "      <td>1454.0</td>\n",
       "      <td>Oxford/AstraZeneca, Pfizer/BioNTech</td>\n",
       "      <td>Government of Gibraltar</td>\n",
       "      <td>https://twitter.com/GibraltarGov/status/150700...</td>\n",
       "    </tr>\n",
       "    <tr>\n",
       "      <th>30208</th>\n",
       "      <td>Gibraltar</td>\n",
       "      <td>GIB</td>\n",
       "      <td>2022-02-25</td>\n",
       "      <td>112975.0</td>\n",
       "      <td>41882.0</td>\n",
       "      <td>40898.0</td>\n",
       "      <td>63.0</td>\n",
       "      <td>58.0</td>\n",
       "      <td>335.33</td>\n",
       "      <td>124.31</td>\n",
       "      <td>121.39</td>\n",
       "      <td>1722.0</td>\n",
       "      <td>Oxford/AstraZeneca, Pfizer/BioNTech</td>\n",
       "      <td>Government of Gibraltar</td>\n",
       "      <td>https://twitter.com/GibraltarGov/status/150700...</td>\n",
       "    </tr>\n",
       "    <tr>\n",
       "      <th>30207</th>\n",
       "      <td>Gibraltar</td>\n",
       "      <td>GIB</td>\n",
       "      <td>2022-02-24</td>\n",
       "      <td>112912.0</td>\n",
       "      <td>41847.0</td>\n",
       "      <td>40890.0</td>\n",
       "      <td>92.0</td>\n",
       "      <td>61.0</td>\n",
       "      <td>335.14</td>\n",
       "      <td>124.21</td>\n",
       "      <td>121.37</td>\n",
       "      <td>1811.0</td>\n",
       "      <td>Oxford/AstraZeneca, Pfizer/BioNTech</td>\n",
       "      <td>Government of Gibraltar</td>\n",
       "      <td>https://twitter.com/GibraltarGov/status/150700...</td>\n",
       "    </tr>\n",
       "    <tr>\n",
       "      <th>30206</th>\n",
       "      <td>Gibraltar</td>\n",
       "      <td>GIB</td>\n",
       "      <td>2022-02-23</td>\n",
       "      <td>112820.0</td>\n",
       "      <td>41795.0</td>\n",
       "      <td>40879.0</td>\n",
       "      <td>NaN</td>\n",
       "      <td>53.0</td>\n",
       "      <td>334.87</td>\n",
       "      <td>124.05</td>\n",
       "      <td>121.34</td>\n",
       "      <td>1573.0</td>\n",
       "      <td>Oxford/AstraZeneca, Pfizer/BioNTech</td>\n",
       "      <td>Government of Gibraltar</td>\n",
       "      <td>https://twitter.com/GibraltarGov/status/150700...</td>\n",
       "    </tr>\n",
       "    <tr>\n",
       "      <th>30201</th>\n",
       "      <td>Gibraltar</td>\n",
       "      <td>GIB</td>\n",
       "      <td>2022-02-18</td>\n",
       "      <td>112567.0</td>\n",
       "      <td>41705.0</td>\n",
       "      <td>40840.0</td>\n",
       "      <td>84.0</td>\n",
       "      <td>61.0</td>\n",
       "      <td>334.12</td>\n",
       "      <td>123.79</td>\n",
       "      <td>121.22</td>\n",
       "      <td>1811.0</td>\n",
       "      <td>Oxford/AstraZeneca, Pfizer/BioNTech</td>\n",
       "      <td>Government of Gibraltar</td>\n",
       "      <td>https://twitter.com/GibraltarGov/status/150700...</td>\n",
       "    </tr>\n",
       "    <tr>\n",
       "      <th>30200</th>\n",
       "      <td>Gibraltar</td>\n",
       "      <td>GIB</td>\n",
       "      <td>2022-02-17</td>\n",
       "      <td>112483.0</td>\n",
       "      <td>41697.0</td>\n",
       "      <td>40831.0</td>\n",
       "      <td>36.0</td>\n",
       "      <td>66.0</td>\n",
       "      <td>333.87</td>\n",
       "      <td>123.76</td>\n",
       "      <td>121.19</td>\n",
       "      <td>1959.0</td>\n",
       "      <td>Oxford/AstraZeneca, Pfizer/BioNTech</td>\n",
       "      <td>Government of Gibraltar</td>\n",
       "      <td>https://twitter.com/GibraltarGov/status/150700...</td>\n",
       "    </tr>\n",
       "  </tbody>\n",
       "</table>\n",
       "</div>"
      ],
      "text/plain": [
       "         country iso_code        date  total_vaccinations  people_vaccinated  \\\n",
       "30235  Gibraltar      GIB  2022-03-24            116358.0            42034.0   \n",
       "30234  Gibraltar      GIB  2022-03-23            115847.0            42028.0   \n",
       "30233  Gibraltar      GIB  2022-03-22            115581.0            42026.0   \n",
       "30232  Gibraltar      GIB  2022-03-21            115273.0            42025.0   \n",
       "30229  Gibraltar      GIB  2022-03-18            115000.0                NaN   \n",
       "30228  Gibraltar      GIB  2022-03-17            114774.0                NaN   \n",
       "30227  Gibraltar      GIB  2022-03-16            114581.0                NaN   \n",
       "30226  Gibraltar      GIB  2022-03-15            114420.0            42012.0   \n",
       "30222  Gibraltar      GIB  2022-03-11            114204.0            42010.0   \n",
       "30220  Gibraltar      GIB  2022-03-09            113720.0            41998.0   \n",
       "30219  Gibraltar      GIB  2022-03-08            113295.0            41998.0   \n",
       "30215  Gibraltar      GIB  2022-03-04            113255.0            41995.0   \n",
       "30213  Gibraltar      GIB  2022-03-02            113176.0            41978.0   \n",
       "30212  Gibraltar      GIB  2022-03-01            113138.0            41968.0   \n",
       "30210  Gibraltar      GIB  2022-02-27            113009.0            41902.0   \n",
       "30208  Gibraltar      GIB  2022-02-25            112975.0            41882.0   \n",
       "30207  Gibraltar      GIB  2022-02-24            112912.0            41847.0   \n",
       "30206  Gibraltar      GIB  2022-02-23            112820.0            41795.0   \n",
       "30201  Gibraltar      GIB  2022-02-18            112567.0            41705.0   \n",
       "30200  Gibraltar      GIB  2022-02-17            112483.0            41697.0   \n",
       "\n",
       "       people_fully_vaccinated  daily_vaccinations_raw  daily_vaccinations  \\\n",
       "30235                  41228.0                   511.0               226.0   \n",
       "30234                  41205.0                   266.0               181.0   \n",
       "30233                  41123.0                   308.0               166.0   \n",
       "30232                  41119.0                     NaN               130.0   \n",
       "30229                  41108.0                   226.0               114.0   \n",
       "30228                  41101.0                   193.0               116.0   \n",
       "30227                  40991.0                   161.0               123.0   \n",
       "30226                  40969.0                     NaN               161.0   \n",
       "30222                  40966.0                     NaN               136.0   \n",
       "30220                  40958.0                   425.0                78.0   \n",
       "30219                  40951.0                     NaN                22.0   \n",
       "30215                  40943.0                     NaN                40.0   \n",
       "30213                  40922.0                    38.0                51.0   \n",
       "30212                  40917.0                     NaN                53.0   \n",
       "30210                  40905.0                     NaN                49.0   \n",
       "30208                  40898.0                    63.0                58.0   \n",
       "30207                  40890.0                    92.0                61.0   \n",
       "30206                  40879.0                     NaN                53.0   \n",
       "30201                  40840.0                    84.0                61.0   \n",
       "30200                  40831.0                    36.0                66.0   \n",
       "\n",
       "       total_vaccinations_per_hundred  people_vaccinated_per_hundred  \\\n",
       "30235                          345.37                         124.76   \n",
       "30234                          343.85                         124.75   \n",
       "30233                          343.06                         124.74   \n",
       "30232                          342.15                         124.74   \n",
       "30229                          341.34                            NaN   \n",
       "30228                          340.67                            NaN   \n",
       "30227                          340.09                            NaN   \n",
       "30226                          339.62                         124.70   \n",
       "30222                          338.97                         124.69   \n",
       "30220                          337.54                         124.66   \n",
       "30219                          336.28                         124.66   \n",
       "30215                          336.16                         124.65   \n",
       "30213                          335.92                         124.60   \n",
       "30212                          335.81                         124.57   \n",
       "30210                          335.43                         124.37   \n",
       "30208                          335.33                         124.31   \n",
       "30207                          335.14                         124.21   \n",
       "30206                          334.87                         124.05   \n",
       "30201                          334.12                         123.79   \n",
       "30200                          333.87                         123.76   \n",
       "\n",
       "       people_fully_vaccinated_per_hundred  daily_vaccinations_per_million  \\\n",
       "30235                               122.37                          6708.0   \n",
       "30234                               122.30                          5372.0   \n",
       "30233                               122.06                          4927.0   \n",
       "30232                               122.05                          3859.0   \n",
       "30229                               122.01                          3384.0   \n",
       "30228                               121.99                          3443.0   \n",
       "30227                               121.67                          3651.0   \n",
       "30226                               121.60                          4779.0   \n",
       "30222                               121.59                          4037.0   \n",
       "30220                               121.57                          2315.0   \n",
       "30219                               121.55                           653.0   \n",
       "30215                               121.53                          1187.0   \n",
       "30213                               121.46                          1514.0   \n",
       "30212                               121.45                          1573.0   \n",
       "30210                               121.41                          1454.0   \n",
       "30208                               121.39                          1722.0   \n",
       "30207                               121.37                          1811.0   \n",
       "30206                               121.34                          1573.0   \n",
       "30201                               121.22                          1811.0   \n",
       "30200                               121.19                          1959.0   \n",
       "\n",
       "                                  vaccines              source_name  \\\n",
       "30235  Oxford/AstraZeneca, Pfizer/BioNTech  Government of Gibraltar   \n",
       "30234  Oxford/AstraZeneca, Pfizer/BioNTech  Government of Gibraltar   \n",
       "30233  Oxford/AstraZeneca, Pfizer/BioNTech  Government of Gibraltar   \n",
       "30232  Oxford/AstraZeneca, Pfizer/BioNTech  Government of Gibraltar   \n",
       "30229  Oxford/AstraZeneca, Pfizer/BioNTech  Government of Gibraltar   \n",
       "30228  Oxford/AstraZeneca, Pfizer/BioNTech  Government of Gibraltar   \n",
       "30227  Oxford/AstraZeneca, Pfizer/BioNTech  Government of Gibraltar   \n",
       "30226  Oxford/AstraZeneca, Pfizer/BioNTech  Government of Gibraltar   \n",
       "30222  Oxford/AstraZeneca, Pfizer/BioNTech  Government of Gibraltar   \n",
       "30220  Oxford/AstraZeneca, Pfizer/BioNTech  Government of Gibraltar   \n",
       "30219  Oxford/AstraZeneca, Pfizer/BioNTech  Government of Gibraltar   \n",
       "30215  Oxford/AstraZeneca, Pfizer/BioNTech  Government of Gibraltar   \n",
       "30213  Oxford/AstraZeneca, Pfizer/BioNTech  Government of Gibraltar   \n",
       "30212  Oxford/AstraZeneca, Pfizer/BioNTech  Government of Gibraltar   \n",
       "30210  Oxford/AstraZeneca, Pfizer/BioNTech  Government of Gibraltar   \n",
       "30208  Oxford/AstraZeneca, Pfizer/BioNTech  Government of Gibraltar   \n",
       "30207  Oxford/AstraZeneca, Pfizer/BioNTech  Government of Gibraltar   \n",
       "30206  Oxford/AstraZeneca, Pfizer/BioNTech  Government of Gibraltar   \n",
       "30201  Oxford/AstraZeneca, Pfizer/BioNTech  Government of Gibraltar   \n",
       "30200  Oxford/AstraZeneca, Pfizer/BioNTech  Government of Gibraltar   \n",
       "\n",
       "                                          source_website  \n",
       "30235  https://twitter.com/GibraltarGov/status/150700...  \n",
       "30234  https://twitter.com/GibraltarGov/status/150700...  \n",
       "30233  https://twitter.com/GibraltarGov/status/150700...  \n",
       "30232  https://twitter.com/GibraltarGov/status/150700...  \n",
       "30229  https://twitter.com/GibraltarGov/status/150700...  \n",
       "30228  https://twitter.com/GibraltarGov/status/150700...  \n",
       "30227  https://twitter.com/GibraltarGov/status/150700...  \n",
       "30226  https://twitter.com/GibraltarGov/status/150700...  \n",
       "30222  https://twitter.com/GibraltarGov/status/150700...  \n",
       "30220  https://twitter.com/GibraltarGov/status/150700...  \n",
       "30219  https://twitter.com/GibraltarGov/status/150700...  \n",
       "30215  https://twitter.com/GibraltarGov/status/150700...  \n",
       "30213  https://twitter.com/GibraltarGov/status/150700...  \n",
       "30212  https://twitter.com/GibraltarGov/status/150700...  \n",
       "30210  https://twitter.com/GibraltarGov/status/150700...  \n",
       "30208  https://twitter.com/GibraltarGov/status/150700...  \n",
       "30207  https://twitter.com/GibraltarGov/status/150700...  \n",
       "30206  https://twitter.com/GibraltarGov/status/150700...  \n",
       "30201  https://twitter.com/GibraltarGov/status/150700...  \n",
       "30200  https://twitter.com/GibraltarGov/status/150700...  "
      ]
     },
     "execution_count": 26,
     "metadata": {},
     "output_type": "execute_result"
    }
   ],
   "source": [
    "covid_vaccin_df.sort_values('people_fully_vaccinated_per_hundred' , ascending=False).head(20)"
   ]
  },
  {
   "cell_type": "code",
   "execution_count": 27,
   "metadata": {},
   "outputs": [],
   "source": [
    "covid_vaccin_df.set_index('date', inplace=True)"
   ]
  },
  {
   "cell_type": "code",
   "execution_count": 28,
   "metadata": {},
   "outputs": [
    {
     "data": {
      "text/html": [
       "<div>\n",
       "<style scoped>\n",
       "    .dataframe tbody tr th:only-of-type {\n",
       "        vertical-align: middle;\n",
       "    }\n",
       "\n",
       "    .dataframe tbody tr th {\n",
       "        vertical-align: top;\n",
       "    }\n",
       "\n",
       "    .dataframe thead th {\n",
       "        text-align: right;\n",
       "    }\n",
       "</style>\n",
       "<table border=\"1\" class=\"dataframe\">\n",
       "  <thead>\n",
       "    <tr style=\"text-align: right;\">\n",
       "      <th></th>\n",
       "      <th>country</th>\n",
       "      <th>iso_code</th>\n",
       "      <th>total_vaccinations</th>\n",
       "      <th>people_vaccinated</th>\n",
       "      <th>people_fully_vaccinated</th>\n",
       "      <th>daily_vaccinations_raw</th>\n",
       "      <th>daily_vaccinations</th>\n",
       "      <th>total_vaccinations_per_hundred</th>\n",
       "      <th>people_vaccinated_per_hundred</th>\n",
       "      <th>people_fully_vaccinated_per_hundred</th>\n",
       "      <th>daily_vaccinations_per_million</th>\n",
       "      <th>vaccines</th>\n",
       "      <th>source_name</th>\n",
       "      <th>source_website</th>\n",
       "    </tr>\n",
       "    <tr>\n",
       "      <th>date</th>\n",
       "      <th></th>\n",
       "      <th></th>\n",
       "      <th></th>\n",
       "      <th></th>\n",
       "      <th></th>\n",
       "      <th></th>\n",
       "      <th></th>\n",
       "      <th></th>\n",
       "      <th></th>\n",
       "      <th></th>\n",
       "      <th></th>\n",
       "      <th></th>\n",
       "      <th></th>\n",
       "      <th></th>\n",
       "    </tr>\n",
       "  </thead>\n",
       "  <tbody>\n",
       "    <tr>\n",
       "      <th>2021-02-22</th>\n",
       "      <td>Afghanistan</td>\n",
       "      <td>AFG</td>\n",
       "      <td>0.0</td>\n",
       "      <td>0.0</td>\n",
       "      <td>NaN</td>\n",
       "      <td>NaN</td>\n",
       "      <td>NaN</td>\n",
       "      <td>0.00</td>\n",
       "      <td>0.00</td>\n",
       "      <td>NaN</td>\n",
       "      <td>NaN</td>\n",
       "      <td>Johnson&amp;Johnson, Oxford/AstraZeneca, Pfizer/Bi...</td>\n",
       "      <td>World Health Organization</td>\n",
       "      <td>https://covid19.who.int/</td>\n",
       "    </tr>\n",
       "    <tr>\n",
       "      <th>2021-02-23</th>\n",
       "      <td>Afghanistan</td>\n",
       "      <td>AFG</td>\n",
       "      <td>NaN</td>\n",
       "      <td>NaN</td>\n",
       "      <td>NaN</td>\n",
       "      <td>NaN</td>\n",
       "      <td>1367.0</td>\n",
       "      <td>NaN</td>\n",
       "      <td>NaN</td>\n",
       "      <td>NaN</td>\n",
       "      <td>34.0</td>\n",
       "      <td>Johnson&amp;Johnson, Oxford/AstraZeneca, Pfizer/Bi...</td>\n",
       "      <td>World Health Organization</td>\n",
       "      <td>https://covid19.who.int/</td>\n",
       "    </tr>\n",
       "    <tr>\n",
       "      <th>2021-02-24</th>\n",
       "      <td>Afghanistan</td>\n",
       "      <td>AFG</td>\n",
       "      <td>NaN</td>\n",
       "      <td>NaN</td>\n",
       "      <td>NaN</td>\n",
       "      <td>NaN</td>\n",
       "      <td>1367.0</td>\n",
       "      <td>NaN</td>\n",
       "      <td>NaN</td>\n",
       "      <td>NaN</td>\n",
       "      <td>34.0</td>\n",
       "      <td>Johnson&amp;Johnson, Oxford/AstraZeneca, Pfizer/Bi...</td>\n",
       "      <td>World Health Organization</td>\n",
       "      <td>https://covid19.who.int/</td>\n",
       "    </tr>\n",
       "    <tr>\n",
       "      <th>2021-02-25</th>\n",
       "      <td>Afghanistan</td>\n",
       "      <td>AFG</td>\n",
       "      <td>NaN</td>\n",
       "      <td>NaN</td>\n",
       "      <td>NaN</td>\n",
       "      <td>NaN</td>\n",
       "      <td>1367.0</td>\n",
       "      <td>NaN</td>\n",
       "      <td>NaN</td>\n",
       "      <td>NaN</td>\n",
       "      <td>34.0</td>\n",
       "      <td>Johnson&amp;Johnson, Oxford/AstraZeneca, Pfizer/Bi...</td>\n",
       "      <td>World Health Organization</td>\n",
       "      <td>https://covid19.who.int/</td>\n",
       "    </tr>\n",
       "    <tr>\n",
       "      <th>2021-02-26</th>\n",
       "      <td>Afghanistan</td>\n",
       "      <td>AFG</td>\n",
       "      <td>NaN</td>\n",
       "      <td>NaN</td>\n",
       "      <td>NaN</td>\n",
       "      <td>NaN</td>\n",
       "      <td>1367.0</td>\n",
       "      <td>NaN</td>\n",
       "      <td>NaN</td>\n",
       "      <td>NaN</td>\n",
       "      <td>34.0</td>\n",
       "      <td>Johnson&amp;Johnson, Oxford/AstraZeneca, Pfizer/Bi...</td>\n",
       "      <td>World Health Organization</td>\n",
       "      <td>https://covid19.who.int/</td>\n",
       "    </tr>\n",
       "    <tr>\n",
       "      <th>...</th>\n",
       "      <td>...</td>\n",
       "      <td>...</td>\n",
       "      <td>...</td>\n",
       "      <td>...</td>\n",
       "      <td>...</td>\n",
       "      <td>...</td>\n",
       "      <td>...</td>\n",
       "      <td>...</td>\n",
       "      <td>...</td>\n",
       "      <td>...</td>\n",
       "      <td>...</td>\n",
       "      <td>...</td>\n",
       "      <td>...</td>\n",
       "      <td>...</td>\n",
       "    </tr>\n",
       "    <tr>\n",
       "      <th>2022-03-25</th>\n",
       "      <td>Zimbabwe</td>\n",
       "      <td>ZWE</td>\n",
       "      <td>8691642.0</td>\n",
       "      <td>4814582.0</td>\n",
       "      <td>3473523.0</td>\n",
       "      <td>139213.0</td>\n",
       "      <td>69579.0</td>\n",
       "      <td>57.59</td>\n",
       "      <td>31.90</td>\n",
       "      <td>23.02</td>\n",
       "      <td>4610.0</td>\n",
       "      <td>Oxford/AstraZeneca, Sinopharm/Beijing, Sinovac...</td>\n",
       "      <td>Ministry of Health</td>\n",
       "      <td>https://www.arcgis.com/home/webmap/viewer.html...</td>\n",
       "    </tr>\n",
       "    <tr>\n",
       "      <th>2022-03-26</th>\n",
       "      <td>Zimbabwe</td>\n",
       "      <td>ZWE</td>\n",
       "      <td>8791728.0</td>\n",
       "      <td>4886242.0</td>\n",
       "      <td>3487962.0</td>\n",
       "      <td>100086.0</td>\n",
       "      <td>83429.0</td>\n",
       "      <td>58.25</td>\n",
       "      <td>32.38</td>\n",
       "      <td>23.11</td>\n",
       "      <td>5528.0</td>\n",
       "      <td>Oxford/AstraZeneca, Sinopharm/Beijing, Sinovac...</td>\n",
       "      <td>Ministry of Health</td>\n",
       "      <td>https://www.arcgis.com/home/webmap/viewer.html...</td>\n",
       "    </tr>\n",
       "    <tr>\n",
       "      <th>2022-03-27</th>\n",
       "      <td>Zimbabwe</td>\n",
       "      <td>ZWE</td>\n",
       "      <td>8845039.0</td>\n",
       "      <td>4918147.0</td>\n",
       "      <td>3493763.0</td>\n",
       "      <td>53311.0</td>\n",
       "      <td>90629.0</td>\n",
       "      <td>58.61</td>\n",
       "      <td>32.59</td>\n",
       "      <td>23.15</td>\n",
       "      <td>6005.0</td>\n",
       "      <td>Oxford/AstraZeneca, Sinopharm/Beijing, Sinovac...</td>\n",
       "      <td>Ministry of Health</td>\n",
       "      <td>https://www.arcgis.com/home/webmap/viewer.html...</td>\n",
       "    </tr>\n",
       "    <tr>\n",
       "      <th>2022-03-28</th>\n",
       "      <td>Zimbabwe</td>\n",
       "      <td>ZWE</td>\n",
       "      <td>8934360.0</td>\n",
       "      <td>4975433.0</td>\n",
       "      <td>3501493.0</td>\n",
       "      <td>89321.0</td>\n",
       "      <td>100614.0</td>\n",
       "      <td>59.20</td>\n",
       "      <td>32.97</td>\n",
       "      <td>23.20</td>\n",
       "      <td>6667.0</td>\n",
       "      <td>Oxford/AstraZeneca, Sinopharm/Beijing, Sinovac...</td>\n",
       "      <td>Ministry of Health</td>\n",
       "      <td>https://www.arcgis.com/home/webmap/viewer.html...</td>\n",
       "    </tr>\n",
       "    <tr>\n",
       "      <th>2022-03-29</th>\n",
       "      <td>Zimbabwe</td>\n",
       "      <td>ZWE</td>\n",
       "      <td>9039729.0</td>\n",
       "      <td>5053114.0</td>\n",
       "      <td>3510256.0</td>\n",
       "      <td>105369.0</td>\n",
       "      <td>103751.0</td>\n",
       "      <td>59.90</td>\n",
       "      <td>33.48</td>\n",
       "      <td>23.26</td>\n",
       "      <td>6874.0</td>\n",
       "      <td>Oxford/AstraZeneca, Sinopharm/Beijing, Sinovac...</td>\n",
       "      <td>Ministry of Health</td>\n",
       "      <td>https://www.arcgis.com/home/webmap/viewer.html...</td>\n",
       "    </tr>\n",
       "  </tbody>\n",
       "</table>\n",
       "<p>86512 rows × 14 columns</p>\n",
       "</div>"
      ],
      "text/plain": [
       "                country iso_code  total_vaccinations  people_vaccinated  \\\n",
       "date                                                                      \n",
       "2021-02-22  Afghanistan      AFG                 0.0                0.0   \n",
       "2021-02-23  Afghanistan      AFG                 NaN                NaN   \n",
       "2021-02-24  Afghanistan      AFG                 NaN                NaN   \n",
       "2021-02-25  Afghanistan      AFG                 NaN                NaN   \n",
       "2021-02-26  Afghanistan      AFG                 NaN                NaN   \n",
       "...                 ...      ...                 ...                ...   \n",
       "2022-03-25     Zimbabwe      ZWE           8691642.0          4814582.0   \n",
       "2022-03-26     Zimbabwe      ZWE           8791728.0          4886242.0   \n",
       "2022-03-27     Zimbabwe      ZWE           8845039.0          4918147.0   \n",
       "2022-03-28     Zimbabwe      ZWE           8934360.0          4975433.0   \n",
       "2022-03-29     Zimbabwe      ZWE           9039729.0          5053114.0   \n",
       "\n",
       "            people_fully_vaccinated  daily_vaccinations_raw  \\\n",
       "date                                                          \n",
       "2021-02-22                      NaN                     NaN   \n",
       "2021-02-23                      NaN                     NaN   \n",
       "2021-02-24                      NaN                     NaN   \n",
       "2021-02-25                      NaN                     NaN   \n",
       "2021-02-26                      NaN                     NaN   \n",
       "...                             ...                     ...   \n",
       "2022-03-25                3473523.0                139213.0   \n",
       "2022-03-26                3487962.0                100086.0   \n",
       "2022-03-27                3493763.0                 53311.0   \n",
       "2022-03-28                3501493.0                 89321.0   \n",
       "2022-03-29                3510256.0                105369.0   \n",
       "\n",
       "            daily_vaccinations  total_vaccinations_per_hundred  \\\n",
       "date                                                             \n",
       "2021-02-22                 NaN                            0.00   \n",
       "2021-02-23              1367.0                             NaN   \n",
       "2021-02-24              1367.0                             NaN   \n",
       "2021-02-25              1367.0                             NaN   \n",
       "2021-02-26              1367.0                             NaN   \n",
       "...                        ...                             ...   \n",
       "2022-03-25             69579.0                           57.59   \n",
       "2022-03-26             83429.0                           58.25   \n",
       "2022-03-27             90629.0                           58.61   \n",
       "2022-03-28            100614.0                           59.20   \n",
       "2022-03-29            103751.0                           59.90   \n",
       "\n",
       "            people_vaccinated_per_hundred  \\\n",
       "date                                        \n",
       "2021-02-22                           0.00   \n",
       "2021-02-23                            NaN   \n",
       "2021-02-24                            NaN   \n",
       "2021-02-25                            NaN   \n",
       "2021-02-26                            NaN   \n",
       "...                                   ...   \n",
       "2022-03-25                          31.90   \n",
       "2022-03-26                          32.38   \n",
       "2022-03-27                          32.59   \n",
       "2022-03-28                          32.97   \n",
       "2022-03-29                          33.48   \n",
       "\n",
       "            people_fully_vaccinated_per_hundred  \\\n",
       "date                                              \n",
       "2021-02-22                                  NaN   \n",
       "2021-02-23                                  NaN   \n",
       "2021-02-24                                  NaN   \n",
       "2021-02-25                                  NaN   \n",
       "2021-02-26                                  NaN   \n",
       "...                                         ...   \n",
       "2022-03-25                                23.02   \n",
       "2022-03-26                                23.11   \n",
       "2022-03-27                                23.15   \n",
       "2022-03-28                                23.20   \n",
       "2022-03-29                                23.26   \n",
       "\n",
       "            daily_vaccinations_per_million  \\\n",
       "date                                         \n",
       "2021-02-22                             NaN   \n",
       "2021-02-23                            34.0   \n",
       "2021-02-24                            34.0   \n",
       "2021-02-25                            34.0   \n",
       "2021-02-26                            34.0   \n",
       "...                                    ...   \n",
       "2022-03-25                          4610.0   \n",
       "2022-03-26                          5528.0   \n",
       "2022-03-27                          6005.0   \n",
       "2022-03-28                          6667.0   \n",
       "2022-03-29                          6874.0   \n",
       "\n",
       "                                                     vaccines  \\\n",
       "date                                                            \n",
       "2021-02-22  Johnson&Johnson, Oxford/AstraZeneca, Pfizer/Bi...   \n",
       "2021-02-23  Johnson&Johnson, Oxford/AstraZeneca, Pfizer/Bi...   \n",
       "2021-02-24  Johnson&Johnson, Oxford/AstraZeneca, Pfizer/Bi...   \n",
       "2021-02-25  Johnson&Johnson, Oxford/AstraZeneca, Pfizer/Bi...   \n",
       "2021-02-26  Johnson&Johnson, Oxford/AstraZeneca, Pfizer/Bi...   \n",
       "...                                                       ...   \n",
       "2022-03-25  Oxford/AstraZeneca, Sinopharm/Beijing, Sinovac...   \n",
       "2022-03-26  Oxford/AstraZeneca, Sinopharm/Beijing, Sinovac...   \n",
       "2022-03-27  Oxford/AstraZeneca, Sinopharm/Beijing, Sinovac...   \n",
       "2022-03-28  Oxford/AstraZeneca, Sinopharm/Beijing, Sinovac...   \n",
       "2022-03-29  Oxford/AstraZeneca, Sinopharm/Beijing, Sinovac...   \n",
       "\n",
       "                          source_name  \\\n",
       "date                                    \n",
       "2021-02-22  World Health Organization   \n",
       "2021-02-23  World Health Organization   \n",
       "2021-02-24  World Health Organization   \n",
       "2021-02-25  World Health Organization   \n",
       "2021-02-26  World Health Organization   \n",
       "...                               ...   \n",
       "2022-03-25         Ministry of Health   \n",
       "2022-03-26         Ministry of Health   \n",
       "2022-03-27         Ministry of Health   \n",
       "2022-03-28         Ministry of Health   \n",
       "2022-03-29         Ministry of Health   \n",
       "\n",
       "                                               source_website  \n",
       "date                                                           \n",
       "2021-02-22                           https://covid19.who.int/  \n",
       "2021-02-23                           https://covid19.who.int/  \n",
       "2021-02-24                           https://covid19.who.int/  \n",
       "2021-02-25                           https://covid19.who.int/  \n",
       "2021-02-26                           https://covid19.who.int/  \n",
       "...                                                       ...  \n",
       "2022-03-25  https://www.arcgis.com/home/webmap/viewer.html...  \n",
       "2022-03-26  https://www.arcgis.com/home/webmap/viewer.html...  \n",
       "2022-03-27  https://www.arcgis.com/home/webmap/viewer.html...  \n",
       "2022-03-28  https://www.arcgis.com/home/webmap/viewer.html...  \n",
       "2022-03-29  https://www.arcgis.com/home/webmap/viewer.html...  \n",
       "\n",
       "[86512 rows x 14 columns]"
      ]
     },
     "execution_count": 28,
     "metadata": {},
     "output_type": "execute_result"
    }
   ],
   "source": [
    "covid_vaccin_df"
   ]
  },
  {
   "cell_type": "code",
   "execution_count": 29,
   "metadata": {},
   "outputs": [],
   "source": [
    "import jovian"
   ]
  },
  {
   "cell_type": "code",
   "execution_count": 30,
   "metadata": {},
   "outputs": [
    {
     "data": {
      "application/javascript": [
       "window.require && require([\"base/js/namespace\"],function(Jupyter){Jupyter.notebook.save_checkpoint()})"
      ],
      "text/plain": [
       "<IPython.core.display.Javascript object>"
      ]
     },
     "metadata": {},
     "output_type": "display_data"
    },
    {
     "name": "stdout",
     "output_type": "stream",
     "text": [
      "[jovian] Updating notebook \"rrj9211/covid-19-world-vaccination-progress\" on https://jovian.ai\u001b[0m\n",
      "[jovian] Committed successfully! https://jovian.ai/rrj9211/covid-19-world-vaccination-progress\u001b[0m\n"
     ]
    },
    {
     "data": {
      "text/plain": [
       "'https://jovian.ai/rrj9211/covid-19-world-vaccination-progress'"
      ]
     },
     "execution_count": 30,
     "metadata": {},
     "output_type": "execute_result"
    }
   ],
   "source": [
    "jovian.commit()"
   ]
  },
  {
   "cell_type": "markdown",
   "metadata": {},
   "source": [
    "## Exploratory Analysis and Visualization\n",
    "\n",
    "\n",
    "\n"
   ]
  },
  {
   "cell_type": "markdown",
   "metadata": {},
   "source": [
    "\n",
    "> \n",
    "> - Compute the mean, sum, range and other interesting statistics for numeric columns\n",
    "> - Explore distributions of numeric columns using histograms etc.\n",
    "> - Explore relationship between columns using scatter plots, bar charts etc.\n",
    "> - Make a note of interesting insights from the exploratory analysis"
   ]
  },
  {
   "cell_type": "markdown",
   "metadata": {},
   "source": [
    "Let's begin by importing`matplotlib.pyplot` and `seaborn`."
   ]
  },
  {
   "cell_type": "code",
   "execution_count": 31,
   "metadata": {},
   "outputs": [],
   "source": [
    "import seaborn as sns\n",
    "import matplotlib\n",
    "import matplotlib.pyplot as plt\n",
    "%matplotlib inline\n",
    "\n",
    "sns.set_style('darkgrid')\n",
    "matplotlib.rcParams['font.size'] = 14\n",
    "matplotlib.rcParams['figure.figsize'] = (9, 5)\n",
    "matplotlib.rcParams['figure.facecolor'] = '#00000000'"
   ]
  },
  {
   "cell_type": "code",
   "execution_count": 32,
   "metadata": {},
   "outputs": [
    {
     "data": {
      "text/plain": [
       "2002854013761.0"
      ]
     },
     "execution_count": 32,
     "metadata": {},
     "output_type": "execute_result"
    }
   ],
   "source": [
    "covid_vaccin_df.total_vaccinations.sum()"
   ]
  },
  {
   "cell_type": "markdown",
   "metadata": {},
   "source": [
    "## Total people vaccinated for top 10 countries\n"
   ]
  },
  {
   "cell_type": "code",
   "execution_count": 33,
   "metadata": {},
   "outputs": [],
   "source": [
    "total_vaccination =clean_value.groupby('country').max().sort_values('total_vaccinations', ascending=False)"
   ]
  },
  {
   "cell_type": "code",
   "execution_count": 34,
   "metadata": {},
   "outputs": [],
   "source": [
    "total_vaccination=total_vaccination[:10]"
   ]
  },
  {
   "cell_type": "code",
   "execution_count": 35,
   "metadata": {},
   "outputs": [
    {
     "data": {
      "text/plain": [
       "Text(0.5, 0, 'Countries')"
      ]
     },
     "execution_count": 35,
     "metadata": {},
     "output_type": "execute_result"
    },
    {
     "data": {
      "image/png": "[encoded data removed]",
      "text/plain": [
       "<Figure size 1440x720 with 1 Axes>"
      ]
     },
     "metadata": {
      "needs_background": "light"
     },
     "output_type": "display_data"
    }
   ],
   "source": [
    "plt.figure(figsize=(20, 10))\n",
    "plt.bar(total_vaccination.index, total_vaccination.total_vaccinations, color = 'c')\n",
    "plt.title('Total people vaccinated per country')\n",
    "plt.ylabel('Total people vaccinated (per 10 Million)')\n",
    "plt.xlabel('Countries')"
   ]
  },
  {
   "cell_type": "markdown",
   "metadata": {},
   "source": [
    "## Top 10 countries vaccinating their people at a faster rate"
   ]
  },
  {
   "cell_type": "code",
   "execution_count": 36,
   "metadata": {},
   "outputs": [],
   "source": [
    "fast_vaccination =clean_value.groupby('country').max().sort_values('total_vaccinations_per_hundred', ascending=False)"
   ]
  },
  {
   "cell_type": "code",
   "execution_count": 37,
   "metadata": {},
   "outputs": [],
   "source": [
    "fast_vaccination=fast_vaccination[:10]"
   ]
  },
  {
   "cell_type": "code",
   "execution_count": 38,
   "metadata": {},
   "outputs": [
    {
     "data": {
      "text/plain": [
       "Text(0.5, 0, 'Countries')"
      ]
     },
     "execution_count": 38,
     "metadata": {},
     "output_type": "execute_result"
    },
    {
     "data": {
      "image/png": "[encoded data removed]",
      "text/plain": [
       "<Figure size 1440x720 with 1 Axes>"
      ]
     },
     "metadata": {
      "needs_background": "light"
     },
     "output_type": "display_data"
    }
   ],
   "source": [
    "plt.figure(figsize=(20, 10))\n",
    "plt.bar(fast_vaccination.index, fast_vaccination.total_vaccinations_per_hundred)\n",
    "plt.xticks(rotation = 90)\n",
    "plt.title('Top 10 countries vaccinating their people at a faster rate')\n",
    "plt.ylabel('Number of vaccinated citizens (per 10 Million)')\n",
    "plt.xlabel('Countries')"
   ]
  },
  {
   "cell_type": "markdown",
   "metadata": {},
   "source": [
    "## Different categories of vaccine offered"
   ]
  },
  {
   "cell_type": "code",
   "execution_count": 39,
   "metadata": {},
   "outputs": [],
   "source": [
    "diff_vaccin =clean_value.groupby('vaccines').max().sort_values('total_vaccinations', ascending=False)"
   ]
  },
  {
   "cell_type": "code",
   "execution_count": 40,
   "metadata": {},
   "outputs": [],
   "source": [
    "diff_vaccin=diff_vaccin[:10]"
   ]
  },
  {
   "cell_type": "code",
   "execution_count": 41,
   "metadata": {},
   "outputs": [
    {
     "data": {
      "text/plain": [
       "Text(0.5, 0, 'vaccines')"
      ]
     },
     "execution_count": 41,
     "metadata": {},
     "output_type": "execute_result"
    },
    {
     "data": {
      "image/png": "[encoded data removed]",
      "text/plain": [
       "<Figure size 1800x504 with 1 Axes>"
      ]
     },
     "metadata": {
      "needs_background": "light"
     },
     "output_type": "display_data"
    }
   ],
   "source": [
    "plt.figure(figsize=(25, 7))\n",
    "plt.bar(diff_vaccin.index, diff_vaccin.total_vaccinations)\n",
    "plt.title('Different categories of vaccine offered')\n",
    "plt.xticks(rotation = 90)\n",
    "plt.ylabel('Different categories of vaccine offered (per 10 Million)')\n",
    "plt.xlabel('vaccines')"
   ]
  },
  {
   "cell_type": "markdown",
   "metadata": {},
   "source": [
    "## Comparision Between total number of vaccination and total no of people vaccinated"
   ]
  },
  {
   "cell_type": "code",
   "execution_count": 42,
   "metadata": {},
   "outputs": [
    {
     "data": {
      "text/html": [
       "<div>\n",
       "<style scoped>\n",
       "    .dataframe tbody tr th:only-of-type {\n",
       "        vertical-align: middle;\n",
       "    }\n",
       "\n",
       "    .dataframe tbody tr th {\n",
       "        vertical-align: top;\n",
       "    }\n",
       "\n",
       "    .dataframe thead th {\n",
       "        text-align: right;\n",
       "    }\n",
       "</style>\n",
       "<table border=\"1\" class=\"dataframe\">\n",
       "  <thead>\n",
       "    <tr style=\"text-align: right;\">\n",
       "      <th></th>\n",
       "      <th>country</th>\n",
       "      <th>iso_code</th>\n",
       "      <th>date</th>\n",
       "      <th>total_vaccinations</th>\n",
       "      <th>people_vaccinated</th>\n",
       "      <th>people_fully_vaccinated</th>\n",
       "      <th>daily_vaccinations_raw</th>\n",
       "      <th>daily_vaccinations</th>\n",
       "      <th>total_vaccinations_per_hundred</th>\n",
       "      <th>people_vaccinated_per_hundred</th>\n",
       "      <th>people_fully_vaccinated_per_hundred</th>\n",
       "      <th>daily_vaccinations_per_million</th>\n",
       "      <th>vaccines</th>\n",
       "      <th>source_name</th>\n",
       "      <th>source_website</th>\n",
       "    </tr>\n",
       "  </thead>\n",
       "  <tbody>\n",
       "    <tr>\n",
       "      <th>94</th>\n",
       "      <td>Afghanistan</td>\n",
       "      <td>AFG</td>\n",
       "      <td>2021-05-27</td>\n",
       "      <td>593313.0</td>\n",
       "      <td>479574.0</td>\n",
       "      <td>113739.0</td>\n",
       "      <td>2859.0</td>\n",
       "      <td>6487.0</td>\n",
       "      <td>1.49</td>\n",
       "      <td>1.20</td>\n",
       "      <td>0.29</td>\n",
       "      <td>163.0</td>\n",
       "      <td>Johnson&amp;Johnson, Oxford/AstraZeneca, Pfizer/Bi...</td>\n",
       "      <td>World Health Organization</td>\n",
       "      <td>https://covid19.who.int/</td>\n",
       "    </tr>\n",
       "    <tr>\n",
       "      <th>101</th>\n",
       "      <td>Afghanistan</td>\n",
       "      <td>AFG</td>\n",
       "      <td>2021-06-03</td>\n",
       "      <td>630305.0</td>\n",
       "      <td>481800.0</td>\n",
       "      <td>148505.0</td>\n",
       "      <td>4015.0</td>\n",
       "      <td>5285.0</td>\n",
       "      <td>1.58</td>\n",
       "      <td>1.21</td>\n",
       "      <td>0.37</td>\n",
       "      <td>133.0</td>\n",
       "      <td>Johnson&amp;Johnson, Oxford/AstraZeneca, Pfizer/Bi...</td>\n",
       "      <td>World Health Organization</td>\n",
       "      <td>https://covid19.who.int/</td>\n",
       "    </tr>\n",
       "    <tr>\n",
       "      <th>339</th>\n",
       "      <td>Afghanistan</td>\n",
       "      <td>AFG</td>\n",
       "      <td>2022-01-27</td>\n",
       "      <td>5081064.0</td>\n",
       "      <td>4517380.0</td>\n",
       "      <td>3868832.0</td>\n",
       "      <td>6868.0</td>\n",
       "      <td>9802.0</td>\n",
       "      <td>12.76</td>\n",
       "      <td>11.34</td>\n",
       "      <td>9.71</td>\n",
       "      <td>246.0</td>\n",
       "      <td>Johnson&amp;Johnson, Oxford/AstraZeneca, Pfizer/Bi...</td>\n",
       "      <td>World Health Organization</td>\n",
       "      <td>https://covid19.who.int/</td>\n",
       "    </tr>\n",
       "    <tr>\n",
       "      <th>433</th>\n",
       "      <td>Albania</td>\n",
       "      <td>ALB</td>\n",
       "      <td>2021-02-18</td>\n",
       "      <td>3049.0</td>\n",
       "      <td>2438.0</td>\n",
       "      <td>611.0</td>\n",
       "      <td>1348.0</td>\n",
       "      <td>254.0</td>\n",
       "      <td>0.11</td>\n",
       "      <td>0.08</td>\n",
       "      <td>0.02</td>\n",
       "      <td>88.0</td>\n",
       "      <td>Oxford/AstraZeneca, Pfizer/BioNTech, Sinovac, ...</td>\n",
       "      <td>Ministry of Health</td>\n",
       "      <td>https://shendetesia.gov.al/vaksinimi-anticovid...</td>\n",
       "    </tr>\n",
       "    <tr>\n",
       "      <th>515</th>\n",
       "      <td>Albania</td>\n",
       "      <td>ALB</td>\n",
       "      <td>2021-05-11</td>\n",
       "      <td>622507.0</td>\n",
       "      <td>440921.0</td>\n",
       "      <td>181586.0</td>\n",
       "      <td>9548.0</td>\n",
       "      <td>12160.0</td>\n",
       "      <td>21.67</td>\n",
       "      <td>15.35</td>\n",
       "      <td>6.32</td>\n",
       "      <td>4233.0</td>\n",
       "      <td>Oxford/AstraZeneca, Pfizer/BioNTech, Sinovac, ...</td>\n",
       "      <td>Ministry of Health</td>\n",
       "      <td>https://shendetesia.gov.al/vaksinimi-anticovid...</td>\n",
       "    </tr>\n",
       "    <tr>\n",
       "      <th>...</th>\n",
       "      <td>...</td>\n",
       "      <td>...</td>\n",
       "      <td>...</td>\n",
       "      <td>...</td>\n",
       "      <td>...</td>\n",
       "      <td>...</td>\n",
       "      <td>...</td>\n",
       "      <td>...</td>\n",
       "      <td>...</td>\n",
       "      <td>...</td>\n",
       "      <td>...</td>\n",
       "      <td>...</td>\n",
       "      <td>...</td>\n",
       "      <td>...</td>\n",
       "      <td>...</td>\n",
       "    </tr>\n",
       "    <tr>\n",
       "      <th>86507</th>\n",
       "      <td>Zimbabwe</td>\n",
       "      <td>ZWE</td>\n",
       "      <td>2022-03-25</td>\n",
       "      <td>8691642.0</td>\n",
       "      <td>4814582.0</td>\n",
       "      <td>3473523.0</td>\n",
       "      <td>139213.0</td>\n",
       "      <td>69579.0</td>\n",
       "      <td>57.59</td>\n",
       "      <td>31.90</td>\n",
       "      <td>23.02</td>\n",
       "      <td>4610.0</td>\n",
       "      <td>Oxford/AstraZeneca, Sinopharm/Beijing, Sinovac...</td>\n",
       "      <td>Ministry of Health</td>\n",
       "      <td>https://www.arcgis.com/home/webmap/viewer.html...</td>\n",
       "    </tr>\n",
       "    <tr>\n",
       "      <th>86508</th>\n",
       "      <td>Zimbabwe</td>\n",
       "      <td>ZWE</td>\n",
       "      <td>2022-03-26</td>\n",
       "      <td>8791728.0</td>\n",
       "      <td>4886242.0</td>\n",
       "      <td>3487962.0</td>\n",
       "      <td>100086.0</td>\n",
       "      <td>83429.0</td>\n",
       "      <td>58.25</td>\n",
       "      <td>32.38</td>\n",
       "      <td>23.11</td>\n",
       "      <td>5528.0</td>\n",
       "      <td>Oxford/AstraZeneca, Sinopharm/Beijing, Sinovac...</td>\n",
       "      <td>Ministry of Health</td>\n",
       "      <td>https://www.arcgis.com/home/webmap/viewer.html...</td>\n",
       "    </tr>\n",
       "    <tr>\n",
       "      <th>86509</th>\n",
       "      <td>Zimbabwe</td>\n",
       "      <td>ZWE</td>\n",
       "      <td>2022-03-27</td>\n",
       "      <td>8845039.0</td>\n",
       "      <td>4918147.0</td>\n",
       "      <td>3493763.0</td>\n",
       "      <td>53311.0</td>\n",
       "      <td>90629.0</td>\n",
       "      <td>58.61</td>\n",
       "      <td>32.59</td>\n",
       "      <td>23.15</td>\n",
       "      <td>6005.0</td>\n",
       "      <td>Oxford/AstraZeneca, Sinopharm/Beijing, Sinovac...</td>\n",
       "      <td>Ministry of Health</td>\n",
       "      <td>https://www.arcgis.com/home/webmap/viewer.html...</td>\n",
       "    </tr>\n",
       "    <tr>\n",
       "      <th>86510</th>\n",
       "      <td>Zimbabwe</td>\n",
       "      <td>ZWE</td>\n",
       "      <td>2022-03-28</td>\n",
       "      <td>8934360.0</td>\n",
       "      <td>4975433.0</td>\n",
       "      <td>3501493.0</td>\n",
       "      <td>89321.0</td>\n",
       "      <td>100614.0</td>\n",
       "      <td>59.20</td>\n",
       "      <td>32.97</td>\n",
       "      <td>23.20</td>\n",
       "      <td>6667.0</td>\n",
       "      <td>Oxford/AstraZeneca, Sinopharm/Beijing, Sinovac...</td>\n",
       "      <td>Ministry of Health</td>\n",
       "      <td>https://www.arcgis.com/home/webmap/viewer.html...</td>\n",
       "    </tr>\n",
       "    <tr>\n",
       "      <th>86511</th>\n",
       "      <td>Zimbabwe</td>\n",
       "      <td>ZWE</td>\n",
       "      <td>2022-03-29</td>\n",
       "      <td>9039729.0</td>\n",
       "      <td>5053114.0</td>\n",
       "      <td>3510256.0</td>\n",
       "      <td>105369.0</td>\n",
       "      <td>103751.0</td>\n",
       "      <td>59.90</td>\n",
       "      <td>33.48</td>\n",
       "      <td>23.26</td>\n",
       "      <td>6874.0</td>\n",
       "      <td>Oxford/AstraZeneca, Sinopharm/Beijing, Sinovac...</td>\n",
       "      <td>Ministry of Health</td>\n",
       "      <td>https://www.arcgis.com/home/webmap/viewer.html...</td>\n",
       "    </tr>\n",
       "  </tbody>\n",
       "</table>\n",
       "<p>30847 rows × 15 columns</p>\n",
       "</div>"
      ],
      "text/plain": [
       "           country iso_code        date  total_vaccinations  \\\n",
       "94     Afghanistan      AFG  2021-05-27            593313.0   \n",
       "101    Afghanistan      AFG  2021-06-03            630305.0   \n",
       "339    Afghanistan      AFG  2022-01-27           5081064.0   \n",
       "433        Albania      ALB  2021-02-18              3049.0   \n",
       "515        Albania      ALB  2021-05-11            622507.0   \n",
       "...            ...      ...         ...                 ...   \n",
       "86507     Zimbabwe      ZWE  2022-03-25           8691642.0   \n",
       "86508     Zimbabwe      ZWE  2022-03-26           8791728.0   \n",
       "86509     Zimbabwe      ZWE  2022-03-27           8845039.0   \n",
       "86510     Zimbabwe      ZWE  2022-03-28           8934360.0   \n",
       "86511     Zimbabwe      ZWE  2022-03-29           9039729.0   \n",
       "\n",
       "       people_vaccinated  people_fully_vaccinated  daily_vaccinations_raw  \\\n",
       "94              479574.0                 113739.0                  2859.0   \n",
       "101             481800.0                 148505.0                  4015.0   \n",
       "339            4517380.0                3868832.0                  6868.0   \n",
       "433               2438.0                    611.0                  1348.0   \n",
       "515             440921.0                 181586.0                  9548.0   \n",
       "...                  ...                      ...                     ...   \n",
       "86507          4814582.0                3473523.0                139213.0   \n",
       "86508          4886242.0                3487962.0                100086.0   \n",
       "86509          4918147.0                3493763.0                 53311.0   \n",
       "86510          4975433.0                3501493.0                 89321.0   \n",
       "86511          5053114.0                3510256.0                105369.0   \n",
       "\n",
       "       daily_vaccinations  total_vaccinations_per_hundred  \\\n",
       "94                 6487.0                            1.49   \n",
       "101                5285.0                            1.58   \n",
       "339                9802.0                           12.76   \n",
       "433                 254.0                            0.11   \n",
       "515               12160.0                           21.67   \n",
       "...                   ...                             ...   \n",
       "86507             69579.0                           57.59   \n",
       "86508             83429.0                           58.25   \n",
       "86509             90629.0                           58.61   \n",
       "86510            100614.0                           59.20   \n",
       "86511            103751.0                           59.90   \n",
       "\n",
       "       people_vaccinated_per_hundred  people_fully_vaccinated_per_hundred  \\\n",
       "94                              1.20                                 0.29   \n",
       "101                             1.21                                 0.37   \n",
       "339                            11.34                                 9.71   \n",
       "433                             0.08                                 0.02   \n",
       "515                            15.35                                 6.32   \n",
       "...                              ...                                  ...   \n",
       "86507                          31.90                                23.02   \n",
       "86508                          32.38                                23.11   \n",
       "86509                          32.59                                23.15   \n",
       "86510                          32.97                                23.20   \n",
       "86511                          33.48                                23.26   \n",
       "\n",
       "       daily_vaccinations_per_million  \\\n",
       "94                              163.0   \n",
       "101                             133.0   \n",
       "339                             246.0   \n",
       "433                              88.0   \n",
       "515                            4233.0   \n",
       "...                               ...   \n",
       "86507                          4610.0   \n",
       "86508                          5528.0   \n",
       "86509                          6005.0   \n",
       "86510                          6667.0   \n",
       "86511                          6874.0   \n",
       "\n",
       "                                                vaccines  \\\n",
       "94     Johnson&Johnson, Oxford/AstraZeneca, Pfizer/Bi...   \n",
       "101    Johnson&Johnson, Oxford/AstraZeneca, Pfizer/Bi...   \n",
       "339    Johnson&Johnson, Oxford/AstraZeneca, Pfizer/Bi...   \n",
       "433    Oxford/AstraZeneca, Pfizer/BioNTech, Sinovac, ...   \n",
       "515    Oxford/AstraZeneca, Pfizer/BioNTech, Sinovac, ...   \n",
       "...                                                  ...   \n",
       "86507  Oxford/AstraZeneca, Sinopharm/Beijing, Sinovac...   \n",
       "86508  Oxford/AstraZeneca, Sinopharm/Beijing, Sinovac...   \n",
       "86509  Oxford/AstraZeneca, Sinopharm/Beijing, Sinovac...   \n",
       "86510  Oxford/AstraZeneca, Sinopharm/Beijing, Sinovac...   \n",
       "86511  Oxford/AstraZeneca, Sinopharm/Beijing, Sinovac...   \n",
       "\n",
       "                     source_name  \\\n",
       "94     World Health Organization   \n",
       "101    World Health Organization   \n",
       "339    World Health Organization   \n",
       "433           Ministry of Health   \n",
       "515           Ministry of Health   \n",
       "...                          ...   \n",
       "86507         Ministry of Health   \n",
       "86508         Ministry of Health   \n",
       "86509         Ministry of Health   \n",
       "86510         Ministry of Health   \n",
       "86511         Ministry of Health   \n",
       "\n",
       "                                          source_website  \n",
       "94                              https://covid19.who.int/  \n",
       "101                             https://covid19.who.int/  \n",
       "339                             https://covid19.who.int/  \n",
       "433    https://shendetesia.gov.al/vaksinimi-anticovid...  \n",
       "515    https://shendetesia.gov.al/vaksinimi-anticovid...  \n",
       "...                                                  ...  \n",
       "86507  https://www.arcgis.com/home/webmap/viewer.html...  \n",
       "86508  https://www.arcgis.com/home/webmap/viewer.html...  \n",
       "86509  https://www.arcgis.com/home/webmap/viewer.html...  \n",
       "86510  https://www.arcgis.com/home/webmap/viewer.html...  \n",
       "86511  https://www.arcgis.com/home/webmap/viewer.html...  \n",
       "\n",
       "[30847 rows x 15 columns]"
      ]
     },
     "execution_count": 42,
     "metadata": {},
     "output_type": "execute_result"
    }
   ],
   "source": [
    "clean_value"
   ]
  },
  {
   "cell_type": "code",
   "execution_count": 43,
   "metadata": {},
   "outputs": [
    {
     "data": {
      "image/png": "[encoded data removed]",
      "text/plain": [
       "<Figure size 1800x1080 with 1 Axes>"
      ]
     },
     "metadata": {
      "needs_background": "light"
     },
     "output_type": "display_data"
    }
   ],
   "source": [
    "plt.figure(figsize=(25, 15))\n",
    "clean_value.total_vaccinations.plot();\n",
    "clean_value.people_vaccinated.plot();"
   ]
  },
  {
   "cell_type": "markdown",
   "metadata": {},
   "source": [
    "Let us save and upload our work to Jovian before continuing"
   ]
  },
  {
   "cell_type": "code",
   "execution_count": 44,
   "metadata": {},
   "outputs": [],
   "source": [
    "import jovian"
   ]
  },
  {
   "cell_type": "code",
   "execution_count": 45,
   "metadata": {},
   "outputs": [
    {
     "data": {
      "application/javascript": [
       "window.require && require([\"base/js/namespace\"],function(Jupyter){Jupyter.notebook.save_checkpoint()})"
      ],
      "text/plain": [
       "<IPython.core.display.Javascript object>"
      ]
     },
     "metadata": {},
     "output_type": "display_data"
    },
    {
     "name": "stdout",
     "output_type": "stream",
     "text": [
      "[jovian] Updating notebook \"rrj9211/covid-19-world-vaccination-progress\" on https://jovian.ai\u001b[0m\n",
      "[jovian] Committed successfully! https://jovian.ai/rrj9211/covid-19-world-vaccination-progress\u001b[0m\n"
     ]
    },
    {
     "data": {
      "text/plain": [
       "'https://jovian.ai/rrj9211/covid-19-world-vaccination-progress'"
      ]
     },
     "execution_count": 45,
     "metadata": {},
     "output_type": "execute_result"
    }
   ],
   "source": [
    "jovian.commit()"
   ]
  },
  {
   "cell_type": "markdown",
   "metadata": {},
   "source": [
    "## Asking and Answering Questions\n",
    "\n",
    "there are five question\n",
    "   \n",
    " 1. how many covid vaccin dose the dataframe contain.?\n",
    " 2. how many a list of country from the dataframe.?\n",
    "  \n",
    " 3. Which vaccine is most preferred...?\n",
    " 4. How many people have been vaccinated till now..?\n",
    " \n",
    " 5. On which date total vaccination was maximum..?\n"
   ]
  },
  {
   "cell_type": "markdown",
   "metadata": {},
   "source": [
    "\n",
    ">\n",
    "> - Ask at least 5 interesting questions about your dataset\n",
    "> - Answer the questions either by computing the results using Numpy/Pandas or by plotting graphs using Matplotlib/Seaborn\n",
    "> - Create new columns, merge multiple dataset and perform grouping/aggregation wherever necessary\n",
    "> - Wherever you're using a library function from Pandas/Numpy/Matplotlib etc. explain briefly what it does\n",
    "\n"
   ]
  },
  {
   "cell_type": "markdown",
   "metadata": {},
   "source": [
    "#### Q1:  how many covid vaccin dose the dataframe contain.?"
   ]
  },
  {
   "cell_type": "code",
   "execution_count": 46,
   "metadata": {},
   "outputs": [
    {
     "data": {
      "text/plain": [
       "86512"
      ]
     },
     "execution_count": 46,
     "metadata": {},
     "output_type": "execute_result"
    }
   ],
   "source": [
    "xyz= covid_vaccin_df.shape[0]\n",
    "xyz"
   ]
  },
  {
   "cell_type": "code",
   "execution_count": 47,
   "metadata": {},
   "outputs": [
    {
     "name": "stdout",
     "output_type": "stream",
     "text": [
      "there are 86512 covid_vaccin in the dataset \n"
     ]
    }
   ],
   "source": [
    "print(\"there are {} covid_vaccin in the dataset \".format(xyz))"
   ]
  },
  {
   "cell_type": "markdown",
   "metadata": {},
   "source": [
    "#### Q2: how many a list of country from the dataframe.?\n"
   ]
  },
  {
   "cell_type": "code",
   "execution_count": 48,
   "metadata": {},
   "outputs": [
    {
     "data": {
      "text/plain": [
       "223"
      ]
     },
     "execution_count": 48,
     "metadata": {},
     "output_type": "execute_result"
    }
   ],
   "source": [
    "pqr = len(covid_vaccin_df.country.unique())\n",
    "pqr"
   ]
  },
  {
   "cell_type": "code",
   "execution_count": 49,
   "metadata": {},
   "outputs": [
    {
     "name": "stdout",
     "output_type": "stream",
     "text": [
      "there are 223 country in the dataset \n"
     ]
    }
   ],
   "source": [
    "print(\"there are {} country in the dataset \".format(pqr))"
   ]
  },
  {
   "cell_type": "markdown",
   "metadata": {},
   "source": [
    "#### Q3:  Which vaccine is most preferred...?"
   ]
  },
  {
   "cell_type": "code",
   "execution_count": 50,
   "metadata": {},
   "outputs": [
    {
     "data": {
      "text/plain": [
       "Johnson&Johnson, Moderna, Oxford/AstraZeneca, Pfizer/BioNTech    4832\n",
       "Name: vaccines, dtype: int64"
      ]
     },
     "execution_count": 50,
     "metadata": {},
     "output_type": "execute_result"
    }
   ],
   "source": [
    "clean_value.vaccines.value_counts().head(1)"
   ]
  },
  {
   "cell_type": "code",
   "execution_count": 51,
   "metadata": {},
   "outputs": [
    {
     "name": "stdout",
     "output_type": "stream",
     "text": [
      "The most preffered vaccine is Moderna, Oxford/AstraZeneca, Pfizer/BioNTech. \n"
     ]
    }
   ],
   "source": [
    "print (\"The most preffered vaccine is Moderna, Oxford/AstraZeneca, Pfizer/BioNTech. \")"
   ]
  },
  {
   "cell_type": "markdown",
   "metadata": {},
   "source": [
    "#### Q4: How many people have been vaccinated till now..?\n",
    "\n"
   ]
  },
  {
   "cell_type": "code",
   "execution_count": 52,
   "metadata": {},
   "outputs": [
    {
     "data": {
      "text/plain": [
       "1227826287351.0"
      ]
     },
     "execution_count": 52,
     "metadata": {},
     "output_type": "execute_result"
    }
   ],
   "source": [
    "x=clean_value.total_vaccinations.sum()\n",
    "x"
   ]
  },
  {
   "cell_type": "code",
   "execution_count": 53,
   "metadata": {},
   "outputs": [
    {
     "name": "stdout",
     "output_type": "stream",
     "text": [
      "total 1227826287351.0 people have been vaccinated till now.\n"
     ]
    }
   ],
   "source": [
    "print(\"total {} people have been vaccinated till now.\".format(x))"
   ]
  },
  {
   "cell_type": "markdown",
   "metadata": {},
   "source": [
    "#### Q5: On which date total vaccination was maximum...?\n"
   ]
  },
  {
   "cell_type": "code",
   "execution_count": 54,
   "metadata": {},
   "outputs": [
    {
     "data": {
      "text/plain": [
       "'2022-03-29'"
      ]
     },
     "execution_count": 54,
     "metadata": {},
     "output_type": "execute_result"
    }
   ],
   "source": [
    "covid_vaccin_df\n",
    "y=covid_vaccin_df['total_vaccinations'].idxmax()\n",
    "y"
   ]
  },
  {
   "cell_type": "code",
   "execution_count": 55,
   "metadata": {},
   "outputs": [
    {
     "name": "stdout",
     "output_type": "stream",
     "text": [
      "total vaccination was maximum on 2022-03-29\n"
     ]
    }
   ],
   "source": [
    "print (\"total vaccination was maximum on {}\".format(y))"
   ]
  },
  {
   "cell_type": "markdown",
   "metadata": {},
   "source": [
    "Let us save and upload our work to Jovian before continuing."
   ]
  },
  {
   "cell_type": "code",
   "execution_count": 56,
   "metadata": {},
   "outputs": [],
   "source": [
    "import jovian"
   ]
  },
  {
   "cell_type": "code",
   "execution_count": 57,
   "metadata": {},
   "outputs": [
    {
     "data": {
      "application/javascript": [
       "window.require && require([\"base/js/namespace\"],function(Jupyter){Jupyter.notebook.save_checkpoint()})"
      ],
      "text/plain": [
       "<IPython.core.display.Javascript object>"
      ]
     },
     "metadata": {},
     "output_type": "display_data"
    },
    {
     "name": "stdout",
     "output_type": "stream",
     "text": [
      "[jovian] Updating notebook \"rrj9211/covid-19-world-vaccination-progress\" on https://jovian.ai\u001b[0m\n",
      "[jovian] Committed successfully! https://jovian.ai/rrj9211/covid-19-world-vaccination-progress\u001b[0m\n"
     ]
    },
    {
     "data": {
      "text/plain": [
       "'https://jovian.ai/rrj9211/covid-19-world-vaccination-progress'"
      ]
     },
     "execution_count": 57,
     "metadata": {},
     "output_type": "execute_result"
    }
   ],
   "source": [
    "jovian.commit()"
   ]
  },
  {
   "cell_type": "markdown",
   "metadata": {},
   "source": [
    "## Inferences and Conclusion\n",
    "\n",
    "From the above analysis and visualizations, we can conclude that:\n",
    "\n",
    "1. The rate of applying vaccines to patients is highest in cuba\n",
    "2. The China has the most vaccinated people followed by india and the United states.\n",
    "3. Moderna, Pfizer/BioNTech are the most popular vaccine used worldwide\n",
    "2. total 1227826287351.0 people have been vaccinated till now.\n",
    "3. total vaccination was maximum on 2022-03-29"
   ]
  },
  {
   "cell_type": "code",
   "execution_count": 58,
   "metadata": {},
   "outputs": [],
   "source": [
    "import jovian"
   ]
  },
  {
   "cell_type": "code",
   "execution_count": 59,
   "metadata": {},
   "outputs": [
    {
     "data": {
      "application/javascript": [
       "window.require && require([\"base/js/namespace\"],function(Jupyter){Jupyter.notebook.save_checkpoint()})"
      ],
      "text/plain": [
       "<IPython.core.display.Javascript object>"
      ]
     },
     "metadata": {},
     "output_type": "display_data"
    },
    {
     "name": "stdout",
     "output_type": "stream",
     "text": [
      "[jovian] Updating notebook \"rrj9211/covid-19-world-vaccination-progress\" on https://jovian.ai\u001b[0m\n",
      "[jovian] Committed successfully! https://jovian.ai/rrj9211/covid-19-world-vaccination-progress\u001b[0m\n"
     ]
    },
    {
     "data": {
      "text/plain": [
       "'https://jovian.ai/rrj9211/covid-19-world-vaccination-progress'"
      ]
     },
     "execution_count": 59,
     "metadata": {},
     "output_type": "execute_result"
    }
   ],
   "source": [
    "jovian.commit()"
   ]
  },
  {
   "cell_type": "markdown",
   "metadata": {},
   "source": [
    "## References and Future Work\n",
    "\n",
    "In future we are trying to find some more useful insights from this dataset which may be left or missing from our views.As a beginner I am always trying to learn new thing or skills which can be benefited to our organization."
   ]
  },
  {
   "cell_type": "code",
   "execution_count": 60,
   "metadata": {},
   "outputs": [],
   "source": [
    "import jovian"
   ]
  },
  {
   "cell_type": "code",
   "execution_count": null,
   "metadata": {
    "scrolled": true
   },
   "outputs": [
    {
     "data": {
      "application/javascript": [
       "window.require && require([\"base/js/namespace\"],function(Jupyter){Jupyter.notebook.save_checkpoint()})"
      ],
      "text/plain": [
       "<IPython.core.display.Javascript object>"
      ]
     },
     "metadata": {},
     "output_type": "display_data"
    }
   ],
   "source": [
    "jovian.commit()"
   ]
  },
  {
   "cell_type": "code",
   "execution_count": null,
   "metadata": {},
   "outputs": [],
   "source": []
  }
 ],
 "metadata": {
  "language_info": {
   "codemirror_mode": {
    "name": "ipython",
    "version": 3
   },
   "file_extension": ".py",
   "mimetype": "text/x-python",
   "name": "python",
   "nbconvert_exporter": "python",
   "pygments_lexer": "ipython3",
   "version": "3.9.6"
  }
 },
 "nbformat": 4,
 "nbformat_minor": 4
}